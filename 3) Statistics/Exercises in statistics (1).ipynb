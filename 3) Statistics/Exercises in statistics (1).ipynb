{
 "cells": [
  {
   "cell_type": "markdown",
   "id": "b2ee4a3f-f86b-4a70-b39f-455d92dc9b76",
   "metadata": {},
   "source": [
    "# Exercises in statistics"
   ]
  },
  {
   "cell_type": "markdown",
   "id": "a457b65e-0aa2-405b-b2e4-c0dd52ac410d",
   "metadata": {},
   "source": [
    "## Exercise 3\n",
    "\n",
    "Load in the data \"energySoftware.csv\" and answer the following questions:\n",
    "1. Plot the distribution of CPU for each test type\n",
    "2. Is there a difference in the CPU between bubblesort and bubblesort_ll? (note that the last name contains two small l's and not two capital i's) Justify your choice of test(s). \n",
    "3. Is there a difference in the CPU between bubblesort_func and bubblesort_ll2? Justify your choice of test(s). If there is a difference, how big is it?\n",
    "4. When it comes to time, is there a difference between bubblesort and bubblesort_ll? Justify your choice of test(s).\n",
    "5. Perform an ANOVA test to test if there is a difference in means across groups for CPU\n",
    "6. Perform an ANOVA test to test if there is a difference in means across groups for time"
   ]
  },
  {
   "cell_type": "code",
   "execution_count": 9,
   "id": "8bdc6f2d-c30d-4ace-8749-f598e9c263a7",
   "metadata": {},
   "outputs": [],
   "source": [
    "import pandas as pd\n",
    "import numpy as np\n",
    "import matplotlib.pyplot as plt\n",
    "import seaborn as sns"
   ]
  },
  {
   "cell_type": "code",
   "execution_count": 10,
   "id": "7695bbd8-28e3-4aea-ab32-ec8489f09559",
   "metadata": {},
   "outputs": [],
   "source": [
    "# Load the data\n",
    "energySoftware = pd.read_csv('energySoftware.csv')"
   ]
  },
  {
   "cell_type": "code",
   "execution_count": 11,
   "id": "10d4d5ed",
   "metadata": {},
   "outputs": [
    {
     "data": {
      "text/html": [
       "<div>\n",
       "<style scoped>\n",
       "    .dataframe tbody tr th:only-of-type {\n",
       "        vertical-align: middle;\n",
       "    }\n",
       "\n",
       "    .dataframe tbody tr th {\n",
       "        vertical-align: top;\n",
       "    }\n",
       "\n",
       "    .dataframe thead th {\n",
       "        text-align: right;\n",
       "    }\n",
       "</style>\n",
       "<table border=\"1\" class=\"dataframe\">\n",
       "  <thead>\n",
       "    <tr style=\"text-align: right;\">\n",
       "      <th></th>\n",
       "      <th>test</th>\n",
       "      <th>PKG</th>\n",
       "      <th>CPU</th>\n",
       "      <th>nn</th>\n",
       "      <th>nn2</th>\n",
       "      <th>time</th>\n",
       "    </tr>\n",
       "  </thead>\n",
       "  <tbody>\n",
       "    <tr>\n",
       "      <th>0</th>\n",
       "      <td>bubblesort</td>\n",
       "      <td>0.010986</td>\n",
       "      <td>0.009155</td>\n",
       "      <td></td>\n",
       "      <td></td>\n",
       "      <td>3.165</td>\n",
       "    </tr>\n",
       "    <tr>\n",
       "      <th>1</th>\n",
       "      <td>bubblesort</td>\n",
       "      <td>0.013184</td>\n",
       "      <td>0.010925</td>\n",
       "      <td></td>\n",
       "      <td></td>\n",
       "      <td>3.069</td>\n",
       "    </tr>\n",
       "    <tr>\n",
       "      <th>2</th>\n",
       "      <td>bubblesort</td>\n",
       "      <td>0.015198</td>\n",
       "      <td>0.009399</td>\n",
       "      <td></td>\n",
       "      <td></td>\n",
       "      <td>2.617</td>\n",
       "    </tr>\n",
       "    <tr>\n",
       "      <th>3</th>\n",
       "      <td>bubblesort</td>\n",
       "      <td>0.010559</td>\n",
       "      <td>0.009583</td>\n",
       "      <td></td>\n",
       "      <td></td>\n",
       "      <td>2.572</td>\n",
       "    </tr>\n",
       "    <tr>\n",
       "      <th>4</th>\n",
       "      <td>bubblesort</td>\n",
       "      <td>0.009949</td>\n",
       "      <td>0.009949</td>\n",
       "      <td></td>\n",
       "      <td></td>\n",
       "      <td>2.671</td>\n",
       "    </tr>\n",
       "    <tr>\n",
       "      <th>...</th>\n",
       "      <td>...</td>\n",
       "      <td>...</td>\n",
       "      <td>...</td>\n",
       "      <td>...</td>\n",
       "      <td>...</td>\n",
       "      <td>...</td>\n",
       "    </tr>\n",
       "    <tr>\n",
       "      <th>1436</th>\n",
       "      <td>bubblesort_ll</td>\n",
       "      <td>0.013184</td>\n",
       "      <td>0.014038</td>\n",
       "      <td></td>\n",
       "      <td></td>\n",
       "      <td>2.394</td>\n",
       "    </tr>\n",
       "    <tr>\n",
       "      <th>1437</th>\n",
       "      <td>bubblesort_ll</td>\n",
       "      <td>0.021362</td>\n",
       "      <td>0.014343</td>\n",
       "      <td></td>\n",
       "      <td></td>\n",
       "      <td>2.428</td>\n",
       "    </tr>\n",
       "    <tr>\n",
       "      <th>1438</th>\n",
       "      <td>bubblesort_ll</td>\n",
       "      <td>0.013672</td>\n",
       "      <td>0.014221</td>\n",
       "      <td></td>\n",
       "      <td></td>\n",
       "      <td>2.479</td>\n",
       "    </tr>\n",
       "    <tr>\n",
       "      <th>1439</th>\n",
       "      <td>bubblesort_ll</td>\n",
       "      <td>0.019531</td>\n",
       "      <td>0.014526</td>\n",
       "      <td></td>\n",
       "      <td></td>\n",
       "      <td>2.537</td>\n",
       "    </tr>\n",
       "    <tr>\n",
       "      <th>1440</th>\n",
       "      <td>bubblesort_ll</td>\n",
       "      <td>0.013428</td>\n",
       "      <td>0.013611</td>\n",
       "      <td></td>\n",
       "      <td></td>\n",
       "      <td>2.483</td>\n",
       "    </tr>\n",
       "  </tbody>\n",
       "</table>\n",
       "<p>1441 rows × 6 columns</p>\n",
       "</div>"
      ],
      "text/plain": [
       "               test       PKG       CPU  nn nn2   time\n",
       "0        bubblesort  0.010986  0.009155          3.165\n",
       "1        bubblesort  0.013184  0.010925          3.069\n",
       "2        bubblesort  0.015198  0.009399          2.617\n",
       "3        bubblesort  0.010559  0.009583          2.572\n",
       "4        bubblesort  0.009949  0.009949          2.671\n",
       "...             ...       ...       ...  ..  ..    ...\n",
       "1436  bubblesort_ll  0.013184  0.014038          2.394\n",
       "1437  bubblesort_ll  0.021362  0.014343          2.428\n",
       "1438  bubblesort_ll  0.013672  0.014221          2.479\n",
       "1439  bubblesort_ll  0.019531  0.014526          2.537\n",
       "1440  bubblesort_ll  0.013428  0.013611          2.483\n",
       "\n",
       "[1441 rows x 6 columns]"
      ]
     },
     "execution_count": 11,
     "metadata": {},
     "output_type": "execute_result"
    }
   ],
   "source": [
    "energySoftware"
   ]
  },
  {
   "cell_type": "markdown",
   "id": "576b24df",
   "metadata": {},
   "source": [
    "1. Plot the distribution of CPU for each test type"
   ]
  },
  {
   "cell_type": "code",
   "execution_count": 13,
   "id": "84cb3ee7",
   "metadata": {},
   "outputs": [
    {
     "data": {
      "image/png": "[encoded data removed]",
      "text/plain": [
       "<Figure size 640x480 with 1 Axes>"
      ]
     },
     "metadata": {},
     "output_type": "display_data"
    }
   ],
   "source": [
    "#Plotting the distribution of CPU for each test type.\n",
    "sns.boxplot(x='test', y='CPU', data=energySoftware)\n",
    "plt.show()"
   ]
  },
  {
   "cell_type": "markdown",
   "id": "99ccb7de",
   "metadata": {},
   "source": [
    "2. Is there a difference in the CPU between bubblesort and bubblesort_ll? (note that the last name contains two small l's and not two capital i's) Justify your choice of test(s). "
   ]
  },
  {
   "cell_type": "code",
   "execution_count": 20,
   "id": "098f1f98",
   "metadata": {},
   "outputs": [
    {
     "data": {
      "image/png": "[encoded data removed]",
      "text/plain": [
       "<Figure size 640x480 with 1 Axes>"
      ]
     },
     "metadata": {},
     "output_type": "display_data"
    }
   ],
   "source": [
    "#plotting the distribution between bubblesort and bubblesort_ll\n",
    "sns.boxplot(x='test', y='CPU', data=energySoftware[energySoftware['test'].isin(['bubblesort', 'bubblesort_ll'])])\n",
    "plt.show()"
   ]
  },
  {
   "cell_type": "code",
   "execution_count": 26,
   "id": "96ce401f",
   "metadata": {},
   "outputs": [
    {
     "data": {
      "text/html": [
       "<div>\n",
       "<style scoped>\n",
       "    .dataframe tbody tr th:only-of-type {\n",
       "        vertical-align: middle;\n",
       "    }\n",
       "\n",
       "    .dataframe tbody tr th {\n",
       "        vertical-align: top;\n",
       "    }\n",
       "\n",
       "    .dataframe thead th {\n",
       "        text-align: right;\n",
       "    }\n",
       "</style>\n",
       "<table border=\"1\" class=\"dataframe\">\n",
       "  <thead>\n",
       "    <tr style=\"text-align: right;\">\n",
       "      <th></th>\n",
       "      <th>PKG</th>\n",
       "      <th>CPU</th>\n",
       "      <th>time</th>\n",
       "    </tr>\n",
       "  </thead>\n",
       "  <tbody>\n",
       "    <tr>\n",
       "      <th>count</th>\n",
       "      <td>361.000000</td>\n",
       "      <td>361.000000</td>\n",
       "      <td>361.000000</td>\n",
       "    </tr>\n",
       "    <tr>\n",
       "      <th>mean</th>\n",
       "      <td>0.012697</td>\n",
       "      <td>0.010412</td>\n",
       "      <td>2.518892</td>\n",
       "    </tr>\n",
       "    <tr>\n",
       "      <th>std</th>\n",
       "      <td>0.002190</td>\n",
       "      <td>0.001316</td>\n",
       "      <td>0.419260</td>\n",
       "    </tr>\n",
       "    <tr>\n",
       "      <th>min</th>\n",
       "      <td>0.008179</td>\n",
       "      <td>0.007812</td>\n",
       "      <td>1.962000</td>\n",
       "    </tr>\n",
       "    <tr>\n",
       "      <th>25%</th>\n",
       "      <td>0.010742</td>\n",
       "      <td>0.009460</td>\n",
       "      <td>2.146000</td>\n",
       "    </tr>\n",
       "    <tr>\n",
       "      <th>50%</th>\n",
       "      <td>0.013306</td>\n",
       "      <td>0.010132</td>\n",
       "      <td>2.541000</td>\n",
       "    </tr>\n",
       "    <tr>\n",
       "      <th>75%</th>\n",
       "      <td>0.014038</td>\n",
       "      <td>0.011597</td>\n",
       "      <td>2.676000</td>\n",
       "    </tr>\n",
       "    <tr>\n",
       "      <th>max</th>\n",
       "      <td>0.022034</td>\n",
       "      <td>0.013916</td>\n",
       "      <td>3.902000</td>\n",
       "    </tr>\n",
       "  </tbody>\n",
       "</table>\n",
       "</div>"
      ],
      "text/plain": [
       "              PKG         CPU        time\n",
       "count  361.000000  361.000000  361.000000\n",
       "mean     0.012697    0.010412    2.518892\n",
       "std      0.002190    0.001316    0.419260\n",
       "min      0.008179    0.007812    1.962000\n",
       "25%      0.010742    0.009460    2.146000\n",
       "50%      0.013306    0.010132    2.541000\n",
       "75%      0.014038    0.011597    2.676000\n",
       "max      0.022034    0.013916    3.902000"
      ]
     },
     "execution_count": 26,
     "metadata": {},
     "output_type": "execute_result"
    }
   ],
   "source": [
    "#justifying the difference between the two tests\n",
    "energySoftware[energySoftware[\"test\"] == \"bubblesort\"].describe()"
   ]
  },
  {
   "cell_type": "code",
   "execution_count": 27,
   "id": "9be33bea",
   "metadata": {},
   "outputs": [
    {
     "data": {
      "text/html": [
       "<div>\n",
       "<style scoped>\n",
       "    .dataframe tbody tr th:only-of-type {\n",
       "        vertical-align: middle;\n",
       "    }\n",
       "\n",
       "    .dataframe tbody tr th {\n",
       "        vertical-align: top;\n",
       "    }\n",
       "\n",
       "    .dataframe thead th {\n",
       "        text-align: right;\n",
       "    }\n",
       "</style>\n",
       "<table border=\"1\" class=\"dataframe\">\n",
       "  <thead>\n",
       "    <tr style=\"text-align: right;\">\n",
       "      <th></th>\n",
       "      <th>PKG</th>\n",
       "      <th>CPU</th>\n",
       "      <th>time</th>\n",
       "    </tr>\n",
       "  </thead>\n",
       "  <tbody>\n",
       "    <tr>\n",
       "      <th>count</th>\n",
       "      <td>360.000000</td>\n",
       "      <td>360.000000</td>\n",
       "      <td>360.000000</td>\n",
       "    </tr>\n",
       "    <tr>\n",
       "      <th>mean</th>\n",
       "      <td>0.016297</td>\n",
       "      <td>0.014097</td>\n",
       "      <td>2.458178</td>\n",
       "    </tr>\n",
       "    <tr>\n",
       "      <th>std</th>\n",
       "      <td>0.003248</td>\n",
       "      <td>0.000662</td>\n",
       "      <td>0.089711</td>\n",
       "    </tr>\n",
       "    <tr>\n",
       "      <th>min</th>\n",
       "      <td>0.011169</td>\n",
       "      <td>0.012451</td>\n",
       "      <td>2.320000</td>\n",
       "    </tr>\n",
       "    <tr>\n",
       "      <th>25%</th>\n",
       "      <td>0.013428</td>\n",
       "      <td>0.013611</td>\n",
       "      <td>2.405000</td>\n",
       "    </tr>\n",
       "    <tr>\n",
       "      <th>50%</th>\n",
       "      <td>0.014252</td>\n",
       "      <td>0.014099</td>\n",
       "      <td>2.443000</td>\n",
       "    </tr>\n",
       "    <tr>\n",
       "      <th>75%</th>\n",
       "      <td>0.019836</td>\n",
       "      <td>0.014526</td>\n",
       "      <td>2.491000</td>\n",
       "    </tr>\n",
       "    <tr>\n",
       "      <th>max</th>\n",
       "      <td>0.022095</td>\n",
       "      <td>0.016418</td>\n",
       "      <td>3.014000</td>\n",
       "    </tr>\n",
       "  </tbody>\n",
       "</table>\n",
       "</div>"
      ],
      "text/plain": [
       "              PKG         CPU        time\n",
       "count  360.000000  360.000000  360.000000\n",
       "mean     0.016297    0.014097    2.458178\n",
       "std      0.003248    0.000662    0.089711\n",
       "min      0.011169    0.012451    2.320000\n",
       "25%      0.013428    0.013611    2.405000\n",
       "50%      0.014252    0.014099    2.443000\n",
       "75%      0.019836    0.014526    2.491000\n",
       "max      0.022095    0.016418    3.014000"
      ]
     },
     "execution_count": 27,
     "metadata": {},
     "output_type": "execute_result"
    }
   ],
   "source": [
    "energySoftware[energySoftware[\"test\"] == \"bubblesort_ll\"].describe()"
   ]
  },
  {
   "cell_type": "code",
   "execution_count": 33,
   "id": "acad8810",
   "metadata": {},
   "outputs": [
    {
     "data": {
      "text/plain": [
       "(-47.49984015922036, 2.0829023107007772e-193)"
      ]
     },
     "execution_count": 33,
     "metadata": {},
     "output_type": "execute_result"
    }
   ],
   "source": [
    "from scipy.stats import ttest_ind\n",
    "\n",
    "# Extract CPU data for the relevant test types\n",
    "cpu_bubblesort = energySoftware[energySoftware[\"test\"] == \"bubblesort\"][\"CPU\"]\n",
    "cpu_bubblesort_ll = energySoftware[energySoftware[\"test\"] == \"bubblesort_ll\"][\"CPU\"]\n",
    "\n",
    "# Perform an independent t-test\n",
    "t_stat, p_value = ttest_ind(cpu_bubblesort, cpu_bubblesort_ll, equal_var=False)\n",
    "\n",
    "# Display the results\n",
    "t_stat, p_value\n"
   ]
  },
  {
   "cell_type": "markdown",
   "id": "880603bd",
   "metadata": {},
   "source": [
    "I've decided to use the t_stat and the p_value. From the t_stat we can see that bubblesort_ll uses more CPU, because the t_stat is negative. The p_value is 0.0 with 193 0's. From the p-value we can determine that bubblesort_ll does use more CPU and bubblesort."
   ]
  },
  {
   "cell_type": "markdown",
   "id": "81d020f4",
   "metadata": {},
   "source": [
    "3. Is there a difference in the CPU between bubblesort_func and bubblesort_ll2? Justify your choice of test(s). If there is a difference, how big is it?"
   ]
  },
  {
   "cell_type": "code",
   "execution_count": 37,
   "id": "5eec2a39",
   "metadata": {},
   "outputs": [
    {
     "data": {
      "text/html": [
       "<div>\n",
       "<style scoped>\n",
       "    .dataframe tbody tr th:only-of-type {\n",
       "        vertical-align: middle;\n",
       "    }\n",
       "\n",
       "    .dataframe tbody tr th {\n",
       "        vertical-align: top;\n",
       "    }\n",
       "\n",
       "    .dataframe thead th {\n",
       "        text-align: right;\n",
       "    }\n",
       "</style>\n",
       "<table border=\"1\" class=\"dataframe\">\n",
       "  <thead>\n",
       "    <tr style=\"text-align: right;\">\n",
       "      <th></th>\n",
       "      <th>PKG</th>\n",
       "      <th>CPU</th>\n",
       "      <th>time</th>\n",
       "    </tr>\n",
       "  </thead>\n",
       "  <tbody>\n",
       "    <tr>\n",
       "      <th>count</th>\n",
       "      <td>360.000000</td>\n",
       "      <td>360.000000</td>\n",
       "      <td>360.000000</td>\n",
       "    </tr>\n",
       "    <tr>\n",
       "      <th>mean</th>\n",
       "      <td>0.020496</td>\n",
       "      <td>0.017669</td>\n",
       "      <td>3.456836</td>\n",
       "    </tr>\n",
       "    <tr>\n",
       "      <th>std</th>\n",
       "      <td>0.003063</td>\n",
       "      <td>0.000663</td>\n",
       "      <td>0.115992</td>\n",
       "    </tr>\n",
       "    <tr>\n",
       "      <th>min</th>\n",
       "      <td>0.015442</td>\n",
       "      <td>0.015869</td>\n",
       "      <td>3.292000</td>\n",
       "    </tr>\n",
       "    <tr>\n",
       "      <th>25%</th>\n",
       "      <td>0.017944</td>\n",
       "      <td>0.017212</td>\n",
       "      <td>3.395000</td>\n",
       "    </tr>\n",
       "    <tr>\n",
       "      <th>50%</th>\n",
       "      <td>0.018738</td>\n",
       "      <td>0.017639</td>\n",
       "      <td>3.428500</td>\n",
       "    </tr>\n",
       "    <tr>\n",
       "      <th>75%</th>\n",
       "      <td>0.023926</td>\n",
       "      <td>0.018066</td>\n",
       "      <td>3.484000</td>\n",
       "    </tr>\n",
       "    <tr>\n",
       "      <th>max</th>\n",
       "      <td>0.026062</td>\n",
       "      <td>0.019775</td>\n",
       "      <td>4.188000</td>\n",
       "    </tr>\n",
       "  </tbody>\n",
       "</table>\n",
       "</div>"
      ],
      "text/plain": [
       "              PKG         CPU        time\n",
       "count  360.000000  360.000000  360.000000\n",
       "mean     0.020496    0.017669    3.456836\n",
       "std      0.003063    0.000663    0.115992\n",
       "min      0.015442    0.015869    3.292000\n",
       "25%      0.017944    0.017212    3.395000\n",
       "50%      0.018738    0.017639    3.428500\n",
       "75%      0.023926    0.018066    3.484000\n",
       "max      0.026062    0.019775    4.188000"
      ]
     },
     "execution_count": 37,
     "metadata": {},
     "output_type": "execute_result"
    }
   ],
   "source": [
    "#making the difference in the CPU between the bubblesort_func and bubblesort_ll2\n",
    "energySoftware[energySoftware[\"test\"] == \"bubblesort_func\"].describe()"
   ]
  },
  {
   "cell_type": "code",
   "execution_count": 38,
   "id": "ad2c6fe6",
   "metadata": {},
   "outputs": [
    {
     "data": {
      "text/html": [
       "<div>\n",
       "<style scoped>\n",
       "    .dataframe tbody tr th:only-of-type {\n",
       "        vertical-align: middle;\n",
       "    }\n",
       "\n",
       "    .dataframe tbody tr th {\n",
       "        vertical-align: top;\n",
       "    }\n",
       "\n",
       "    .dataframe thead th {\n",
       "        text-align: right;\n",
       "    }\n",
       "</style>\n",
       "<table border=\"1\" class=\"dataframe\">\n",
       "  <thead>\n",
       "    <tr style=\"text-align: right;\">\n",
       "      <th></th>\n",
       "      <th>PKG</th>\n",
       "      <th>CPU</th>\n",
       "      <th>time</th>\n",
       "    </tr>\n",
       "  </thead>\n",
       "  <tbody>\n",
       "    <tr>\n",
       "      <th>count</th>\n",
       "      <td>360.000000</td>\n",
       "      <td>360.000000</td>\n",
       "      <td>360.000000</td>\n",
       "    </tr>\n",
       "    <tr>\n",
       "      <th>mean</th>\n",
       "      <td>0.020996</td>\n",
       "      <td>0.017919</td>\n",
       "      <td>3.604994</td>\n",
       "    </tr>\n",
       "    <tr>\n",
       "      <th>std</th>\n",
       "      <td>0.003059</td>\n",
       "      <td>0.000763</td>\n",
       "      <td>0.094482</td>\n",
       "    </tr>\n",
       "    <tr>\n",
       "      <th>min</th>\n",
       "      <td>0.015442</td>\n",
       "      <td>0.015686</td>\n",
       "      <td>3.423000</td>\n",
       "    </tr>\n",
       "    <tr>\n",
       "      <th>25%</th>\n",
       "      <td>0.017822</td>\n",
       "      <td>0.017456</td>\n",
       "      <td>3.546000</td>\n",
       "    </tr>\n",
       "    <tr>\n",
       "      <th>50%</th>\n",
       "      <td>0.022675</td>\n",
       "      <td>0.017944</td>\n",
       "      <td>3.590500</td>\n",
       "    </tr>\n",
       "    <tr>\n",
       "      <th>75%</th>\n",
       "      <td>0.023743</td>\n",
       "      <td>0.018433</td>\n",
       "      <td>3.643750</td>\n",
       "    </tr>\n",
       "    <tr>\n",
       "      <th>max</th>\n",
       "      <td>0.026794</td>\n",
       "      <td>0.020325</td>\n",
       "      <td>4.244000</td>\n",
       "    </tr>\n",
       "  </tbody>\n",
       "</table>\n",
       "</div>"
      ],
      "text/plain": [
       "              PKG         CPU        time\n",
       "count  360.000000  360.000000  360.000000\n",
       "mean     0.020996    0.017919    3.604994\n",
       "std      0.003059    0.000763    0.094482\n",
       "min      0.015442    0.015686    3.423000\n",
       "25%      0.017822    0.017456    3.546000\n",
       "50%      0.022675    0.017944    3.590500\n",
       "75%      0.023743    0.018433    3.643750\n",
       "max      0.026794    0.020325    4.244000"
      ]
     },
     "execution_count": 38,
     "metadata": {},
     "output_type": "execute_result"
    }
   ],
   "source": [
    "energySoftware[energySoftware[\"test\"] == \"bubblesort_ll2\"].describe()"
   ]
  },
  {
   "cell_type": "code",
   "execution_count": 39,
   "id": "cbf13404",
   "metadata": {},
   "outputs": [
    {
     "data": {
      "text/plain": [
       "(-4.692273179928858, 3.246796360135079e-06)"
      ]
     },
     "execution_count": 39,
     "metadata": {},
     "output_type": "execute_result"
    }
   ],
   "source": [
    "#using ttest to justify the difference between the two tests\n",
    "\n",
    "# Extract CPU data for the relevant test types\n",
    "cpu_bubblesort_func = energySoftware[energySoftware[\"test\"] == \"bubblesort_func\"][\"CPU\"]\n",
    "cpu_bubblesort_ll2 = energySoftware[energySoftware[\"test\"] == \"bubblesort_ll2\"][\"CPU\"]\n",
    "\n",
    "# Perform an independent t-test\n",
    "t_stat, p_value = ttest_ind(cpu_bubblesort_func, cpu_bubblesort_ll2, equal_var=False)\n",
    "\n",
    "# Display the results\n",
    "t_stat, p_value"
   ]
  },
  {
   "cell_type": "markdown",
   "id": "702db9a0",
   "metadata": {},
   "source": [
    "I've decided to use the same test, making use of t_stat and p_value. Looking at the `t_stat` its very close, but bubblesort_ll2, does still use more CPU than bubblesort_func. This means that if we look at the p_value which is 0.0 and 6 zeros, we can determine that bubblesort_ll2, uses more CPU"
   ]
  },
  {
   "cell_type": "markdown",
   "id": "68a089ce",
   "metadata": {},
   "source": [
    "4. When it comes to time, is there a difference between bubblesort and bubblesort_ll? Justify your choice of test(s)."
   ]
  },
  {
   "cell_type": "code",
   "execution_count": 40,
   "id": "52eed15a",
   "metadata": {},
   "outputs": [
    {
     "data": {
      "text/html": [
       "<div>\n",
       "<style scoped>\n",
       "    .dataframe tbody tr th:only-of-type {\n",
       "        vertical-align: middle;\n",
       "    }\n",
       "\n",
       "    .dataframe tbody tr th {\n",
       "        vertical-align: top;\n",
       "    }\n",
       "\n",
       "    .dataframe thead th {\n",
       "        text-align: right;\n",
       "    }\n",
       "</style>\n",
       "<table border=\"1\" class=\"dataframe\">\n",
       "  <thead>\n",
       "    <tr style=\"text-align: right;\">\n",
       "      <th></th>\n",
       "      <th>PKG</th>\n",
       "      <th>CPU</th>\n",
       "      <th>time</th>\n",
       "    </tr>\n",
       "  </thead>\n",
       "  <tbody>\n",
       "    <tr>\n",
       "      <th>count</th>\n",
       "      <td>361.000000</td>\n",
       "      <td>361.000000</td>\n",
       "      <td>361.000000</td>\n",
       "    </tr>\n",
       "    <tr>\n",
       "      <th>mean</th>\n",
       "      <td>0.012697</td>\n",
       "      <td>0.010412</td>\n",
       "      <td>2.518892</td>\n",
       "    </tr>\n",
       "    <tr>\n",
       "      <th>std</th>\n",
       "      <td>0.002190</td>\n",
       "      <td>0.001316</td>\n",
       "      <td>0.419260</td>\n",
       "    </tr>\n",
       "    <tr>\n",
       "      <th>min</th>\n",
       "      <td>0.008179</td>\n",
       "      <td>0.007812</td>\n",
       "      <td>1.962000</td>\n",
       "    </tr>\n",
       "    <tr>\n",
       "      <th>25%</th>\n",
       "      <td>0.010742</td>\n",
       "      <td>0.009460</td>\n",
       "      <td>2.146000</td>\n",
       "    </tr>\n",
       "    <tr>\n",
       "      <th>50%</th>\n",
       "      <td>0.013306</td>\n",
       "      <td>0.010132</td>\n",
       "      <td>2.541000</td>\n",
       "    </tr>\n",
       "    <tr>\n",
       "      <th>75%</th>\n",
       "      <td>0.014038</td>\n",
       "      <td>0.011597</td>\n",
       "      <td>2.676000</td>\n",
       "    </tr>\n",
       "    <tr>\n",
       "      <th>max</th>\n",
       "      <td>0.022034</td>\n",
       "      <td>0.013916</td>\n",
       "      <td>3.902000</td>\n",
       "    </tr>\n",
       "  </tbody>\n",
       "</table>\n",
       "</div>"
      ],
      "text/plain": [
       "              PKG         CPU        time\n",
       "count  361.000000  361.000000  361.000000\n",
       "mean     0.012697    0.010412    2.518892\n",
       "std      0.002190    0.001316    0.419260\n",
       "min      0.008179    0.007812    1.962000\n",
       "25%      0.010742    0.009460    2.146000\n",
       "50%      0.013306    0.010132    2.541000\n",
       "75%      0.014038    0.011597    2.676000\n",
       "max      0.022034    0.013916    3.902000"
      ]
     },
     "execution_count": 40,
     "metadata": {},
     "output_type": "execute_result"
    }
   ],
   "source": [
    "#when it comes to time, is there a difference between the bubblesort and bubblesort_ll\n",
    "energySoftware[energySoftware[\"test\"] == \"bubblesort\"].describe()"
   ]
  },
  {
   "cell_type": "code",
   "execution_count": 41,
   "id": "726f6dc1",
   "metadata": {},
   "outputs": [
    {
     "data": {
      "text/html": [
       "<div>\n",
       "<style scoped>\n",
       "    .dataframe tbody tr th:only-of-type {\n",
       "        vertical-align: middle;\n",
       "    }\n",
       "\n",
       "    .dataframe tbody tr th {\n",
       "        vertical-align: top;\n",
       "    }\n",
       "\n",
       "    .dataframe thead th {\n",
       "        text-align: right;\n",
       "    }\n",
       "</style>\n",
       "<table border=\"1\" class=\"dataframe\">\n",
       "  <thead>\n",
       "    <tr style=\"text-align: right;\">\n",
       "      <th></th>\n",
       "      <th>PKG</th>\n",
       "      <th>CPU</th>\n",
       "      <th>time</th>\n",
       "    </tr>\n",
       "  </thead>\n",
       "  <tbody>\n",
       "    <tr>\n",
       "      <th>count</th>\n",
       "      <td>360.000000</td>\n",
       "      <td>360.000000</td>\n",
       "      <td>360.000000</td>\n",
       "    </tr>\n",
       "    <tr>\n",
       "      <th>mean</th>\n",
       "      <td>0.016297</td>\n",
       "      <td>0.014097</td>\n",
       "      <td>2.458178</td>\n",
       "    </tr>\n",
       "    <tr>\n",
       "      <th>std</th>\n",
       "      <td>0.003248</td>\n",
       "      <td>0.000662</td>\n",
       "      <td>0.089711</td>\n",
       "    </tr>\n",
       "    <tr>\n",
       "      <th>min</th>\n",
       "      <td>0.011169</td>\n",
       "      <td>0.012451</td>\n",
       "      <td>2.320000</td>\n",
       "    </tr>\n",
       "    <tr>\n",
       "      <th>25%</th>\n",
       "      <td>0.013428</td>\n",
       "      <td>0.013611</td>\n",
       "      <td>2.405000</td>\n",
       "    </tr>\n",
       "    <tr>\n",
       "      <th>50%</th>\n",
       "      <td>0.014252</td>\n",
       "      <td>0.014099</td>\n",
       "      <td>2.443000</td>\n",
       "    </tr>\n",
       "    <tr>\n",
       "      <th>75%</th>\n",
       "      <td>0.019836</td>\n",
       "      <td>0.014526</td>\n",
       "      <td>2.491000</td>\n",
       "    </tr>\n",
       "    <tr>\n",
       "      <th>max</th>\n",
       "      <td>0.022095</td>\n",
       "      <td>0.016418</td>\n",
       "      <td>3.014000</td>\n",
       "    </tr>\n",
       "  </tbody>\n",
       "</table>\n",
       "</div>"
      ],
      "text/plain": [
       "              PKG         CPU        time\n",
       "count  360.000000  360.000000  360.000000\n",
       "mean     0.016297    0.014097    2.458178\n",
       "std      0.003248    0.000662    0.089711\n",
       "min      0.011169    0.012451    2.320000\n",
       "25%      0.013428    0.013611    2.405000\n",
       "50%      0.014252    0.014099    2.443000\n",
       "75%      0.019836    0.014526    2.491000\n",
       "max      0.022095    0.016418    3.014000"
      ]
     },
     "execution_count": 41,
     "metadata": {},
     "output_type": "execute_result"
    }
   ],
   "source": [
    "energySoftware[energySoftware[\"test\"] == \"bubblesort_ll\"].describe()"
   ]
  },
  {
   "cell_type": "code",
   "execution_count": 42,
   "id": "ba7db42e",
   "metadata": {},
   "outputs": [
    {
     "data": {
      "text/plain": [
       "(2.6903718999448643, 0.007441656591061303)"
      ]
     },
     "execution_count": 42,
     "metadata": {},
     "output_type": "execute_result"
    }
   ],
   "source": [
    "#using ttest to justify the difference between the time of the two tests\n",
    "\n",
    "# Extract CPU data for the relevant test types\n",
    "time_bubblesort = energySoftware[energySoftware[\"test\"] == \"bubblesort\"][\"time\"]\n",
    "time_bubblesort_ll = energySoftware[energySoftware[\"test\"] == \"bubblesort_ll\"][\"time\"]\n",
    "\n",
    "# Perform an independent t-test\n",
    "t_stat, p_value = ttest_ind(time_bubblesort, time_bubblesort_ll, equal_var=False)\n",
    "\n",
    "# Display the results\n",
    "t_stat, p_value"
   ]
  },
  {
   "cell_type": "markdown",
   "id": "f6d84197",
   "metadata": {},
   "source": [
    "As we can see from the t_test and the p_value numbers. The t_test shows that bubblesort takes longer, which can also be seen in the describe tables above, where bubblesort uses 361 and bubblesort_ll uses 360 time. Looking at the p_value, it is certain that the bubblesort_ll is faster."
   ]
  },
  {
   "cell_type": "markdown",
   "id": "76ac6dce",
   "metadata": {},
   "source": [
    "5. Perform an ANOVA test to test if there is a difference in means across groups for CPU"
   ]
  },
  {
   "cell_type": "code",
   "execution_count": 46,
   "id": "db91f41a",
   "metadata": {},
   "outputs": [
    {
     "data": {
      "text/html": [
       "<div>\n",
       "<style scoped>\n",
       "    .dataframe tbody tr th:only-of-type {\n",
       "        vertical-align: middle;\n",
       "    }\n",
       "\n",
       "    .dataframe tbody tr th {\n",
       "        vertical-align: top;\n",
       "    }\n",
       "\n",
       "    .dataframe thead th {\n",
       "        text-align: right;\n",
       "    }\n",
       "</style>\n",
       "<table border=\"1\" class=\"dataframe\">\n",
       "  <thead>\n",
       "    <tr style=\"text-align: right;\">\n",
       "      <th></th>\n",
       "      <th>count</th>\n",
       "      <th>mean</th>\n",
       "      <th>std</th>\n",
       "      <th>min</th>\n",
       "      <th>25%</th>\n",
       "      <th>50%</th>\n",
       "      <th>75%</th>\n",
       "      <th>max</th>\n",
       "    </tr>\n",
       "    <tr>\n",
       "      <th>test</th>\n",
       "      <th></th>\n",
       "      <th></th>\n",
       "      <th></th>\n",
       "      <th></th>\n",
       "      <th></th>\n",
       "      <th></th>\n",
       "      <th></th>\n",
       "      <th></th>\n",
       "    </tr>\n",
       "  </thead>\n",
       "  <tbody>\n",
       "    <tr>\n",
       "      <th>bubblesort</th>\n",
       "      <td>361.0</td>\n",
       "      <td>0.010412</td>\n",
       "      <td>0.001316</td>\n",
       "      <td>0.007812</td>\n",
       "      <td>0.009460</td>\n",
       "      <td>0.010132</td>\n",
       "      <td>0.011597</td>\n",
       "      <td>0.013916</td>\n",
       "    </tr>\n",
       "    <tr>\n",
       "      <th>bubblesort_func</th>\n",
       "      <td>360.0</td>\n",
       "      <td>0.017669</td>\n",
       "      <td>0.000663</td>\n",
       "      <td>0.015869</td>\n",
       "      <td>0.017212</td>\n",
       "      <td>0.017639</td>\n",
       "      <td>0.018066</td>\n",
       "      <td>0.019775</td>\n",
       "    </tr>\n",
       "    <tr>\n",
       "      <th>bubblesort_ll</th>\n",
       "      <td>360.0</td>\n",
       "      <td>0.014097</td>\n",
       "      <td>0.000662</td>\n",
       "      <td>0.012451</td>\n",
       "      <td>0.013611</td>\n",
       "      <td>0.014099</td>\n",
       "      <td>0.014526</td>\n",
       "      <td>0.016418</td>\n",
       "    </tr>\n",
       "    <tr>\n",
       "      <th>bubblesort_ll2</th>\n",
       "      <td>360.0</td>\n",
       "      <td>0.017919</td>\n",
       "      <td>0.000763</td>\n",
       "      <td>0.015686</td>\n",
       "      <td>0.017456</td>\n",
       "      <td>0.017944</td>\n",
       "      <td>0.018433</td>\n",
       "      <td>0.020325</td>\n",
       "    </tr>\n",
       "  </tbody>\n",
       "</table>\n",
       "</div>"
      ],
      "text/plain": [
       "                 count      mean       std       min       25%       50%  \\\n",
       "test                                                                       \n",
       "bubblesort       361.0  0.010412  0.001316  0.007812  0.009460  0.010132   \n",
       "bubblesort_func  360.0  0.017669  0.000663  0.015869  0.017212  0.017639   \n",
       "bubblesort_ll    360.0  0.014097  0.000662  0.012451  0.013611  0.014099   \n",
       "bubblesort_ll2   360.0  0.017919  0.000763  0.015686  0.017456  0.017944   \n",
       "\n",
       "                      75%       max  \n",
       "test                                 \n",
       "bubblesort       0.011597  0.013916  \n",
       "bubblesort_func  0.018066  0.019775  \n",
       "bubblesort_ll    0.014526  0.016418  \n",
       "bubblesort_ll2   0.018433  0.020325  "
      ]
     },
     "execution_count": 46,
     "metadata": {},
     "output_type": "execute_result"
    }
   ],
   "source": [
    "#Performing an ANOVA test to test if there is a difference in means across groups for CPU\n",
    "\n",
    "energySoftware.groupby('test')['CPU'].describe()"
   ]
  },
  {
   "cell_type": "code",
   "execution_count": 47,
   "id": "365a9ec4",
   "metadata": {},
   "outputs": [
    {
     "data": {
      "image/png": "[encoded data removed]",
      "text/plain": [
       "<Figure size 511.111x500 with 1 Axes>"
      ]
     },
     "metadata": {},
     "output_type": "display_data"
    }
   ],
   "source": [
    "sns.catplot(x='test', y='CPU', data=energySoftware, kind='box')\n",
    "plt.show()"
   ]
  },
  {
   "cell_type": "code",
   "execution_count": 52,
   "id": "23fd04e1",
   "metadata": {},
   "outputs": [
    {
     "data": {
      "image/png": "[encoded data removed]",
      "text/plain": [
       "<Figure size 500x2000 with 4 Axes>"
      ]
     },
     "metadata": {},
     "output_type": "display_data"
    }
   ],
   "source": [
    "g=sns.FacetGrid(energySoftware, row='test', height = 5)\n",
    "g.map(sns.histplot, 'CPU')\n",
    "plt.show()"
   ]
  },
  {
   "cell_type": "markdown",
   "id": "95bd73a3",
   "metadata": {},
   "source": [
    "The distribution of CPU usage varies a lot between the 4 tests, where bubblesort_ll2 and bubblesort_func are close. Bubblesort_ll and bubblesort, varies from each other and the other tests."
   ]
  },
  {
   "cell_type": "code",
   "execution_count": 50,
   "id": "d4674357",
   "metadata": {},
   "outputs": [
    {
     "data": {
      "text/plain": [
       "F_onewayResult(statistic=5641.937696029289, pvalue=0.0)"
      ]
     },
     "execution_count": 50,
     "metadata": {},
     "output_type": "execute_result"
    }
   ],
   "source": [
    "from scipy import stats\n",
    "\n",
    "stats.f_oneway(energySoftware[energySoftware[\"test\"] == \"bubblesort\"][\"CPU\"],\n",
    "               energySoftware[energySoftware[\"test\"] == \"bubblesort_ll\"][\"CPU\"],\n",
    "               energySoftware[energySoftware[\"test\"] == \"bubblesort_func\"][\"CPU\"],\n",
    "               energySoftware[energySoftware[\"test\"] == \"bubblesort_ll2\"][\"CPU\"])"
   ]
  },
  {
   "cell_type": "markdown",
   "id": "555558b0",
   "metadata": {},
   "source": [
    "As we can see, the p-value of 0 tells us that there is a difference, however it doesn't tell us which groups of test has the highest CPU usage. Further tests would be needed to decide that."
   ]
  },
  {
   "cell_type": "markdown",
   "id": "aab7db40",
   "metadata": {},
   "source": [
    "6. Perform an ANOVA test to test if there is a difference in means across groups for time"
   ]
  },
  {
   "cell_type": "code",
   "execution_count": 53,
   "id": "896218e8",
   "metadata": {},
   "outputs": [
    {
     "data": {
      "text/html": [
       "<div>\n",
       "<style scoped>\n",
       "    .dataframe tbody tr th:only-of-type {\n",
       "        vertical-align: middle;\n",
       "    }\n",
       "\n",
       "    .dataframe tbody tr th {\n",
       "        vertical-align: top;\n",
       "    }\n",
       "\n",
       "    .dataframe thead th {\n",
       "        text-align: right;\n",
       "    }\n",
       "</style>\n",
       "<table border=\"1\" class=\"dataframe\">\n",
       "  <thead>\n",
       "    <tr style=\"text-align: right;\">\n",
       "      <th></th>\n",
       "      <th>count</th>\n",
       "      <th>mean</th>\n",
       "      <th>std</th>\n",
       "      <th>min</th>\n",
       "      <th>25%</th>\n",
       "      <th>50%</th>\n",
       "      <th>75%</th>\n",
       "      <th>max</th>\n",
       "    </tr>\n",
       "    <tr>\n",
       "      <th>test</th>\n",
       "      <th></th>\n",
       "      <th></th>\n",
       "      <th></th>\n",
       "      <th></th>\n",
       "      <th></th>\n",
       "      <th></th>\n",
       "      <th></th>\n",
       "      <th></th>\n",
       "    </tr>\n",
       "  </thead>\n",
       "  <tbody>\n",
       "    <tr>\n",
       "      <th>bubblesort</th>\n",
       "      <td>361.0</td>\n",
       "      <td>2.518892</td>\n",
       "      <td>0.419260</td>\n",
       "      <td>1.962</td>\n",
       "      <td>2.146</td>\n",
       "      <td>2.5410</td>\n",
       "      <td>2.67600</td>\n",
       "      <td>3.902</td>\n",
       "    </tr>\n",
       "    <tr>\n",
       "      <th>bubblesort_func</th>\n",
       "      <td>360.0</td>\n",
       "      <td>3.456836</td>\n",
       "      <td>0.115992</td>\n",
       "      <td>3.292</td>\n",
       "      <td>3.395</td>\n",
       "      <td>3.4285</td>\n",
       "      <td>3.48400</td>\n",
       "      <td>4.188</td>\n",
       "    </tr>\n",
       "    <tr>\n",
       "      <th>bubblesort_ll</th>\n",
       "      <td>360.0</td>\n",
       "      <td>2.458178</td>\n",
       "      <td>0.089711</td>\n",
       "      <td>2.320</td>\n",
       "      <td>2.405</td>\n",
       "      <td>2.4430</td>\n",
       "      <td>2.49100</td>\n",
       "      <td>3.014</td>\n",
       "    </tr>\n",
       "    <tr>\n",
       "      <th>bubblesort_ll2</th>\n",
       "      <td>360.0</td>\n",
       "      <td>3.604994</td>\n",
       "      <td>0.094482</td>\n",
       "      <td>3.423</td>\n",
       "      <td>3.546</td>\n",
       "      <td>3.5905</td>\n",
       "      <td>3.64375</td>\n",
       "      <td>4.244</td>\n",
       "    </tr>\n",
       "  </tbody>\n",
       "</table>\n",
       "</div>"
      ],
      "text/plain": [
       "                 count      mean       std    min    25%     50%      75%  \\\n",
       "test                                                                        \n",
       "bubblesort       361.0  2.518892  0.419260  1.962  2.146  2.5410  2.67600   \n",
       "bubblesort_func  360.0  3.456836  0.115992  3.292  3.395  3.4285  3.48400   \n",
       "bubblesort_ll    360.0  2.458178  0.089711  2.320  2.405  2.4430  2.49100   \n",
       "bubblesort_ll2   360.0  3.604994  0.094482  3.423  3.546  3.5905  3.64375   \n",
       "\n",
       "                   max  \n",
       "test                    \n",
       "bubblesort       3.902  \n",
       "bubblesort_func  4.188  \n",
       "bubblesort_ll    3.014  \n",
       "bubblesort_ll2   4.244  "
      ]
     },
     "execution_count": 53,
     "metadata": {},
     "output_type": "execute_result"
    }
   ],
   "source": [
    "#Performing an ANOVA test to test if there is a difference in means across groups for time\n",
    "\n",
    "energySoftware.groupby('test')['time'].describe()"
   ]
  },
  {
   "cell_type": "code",
   "execution_count": 55,
   "id": "1d6743f4",
   "metadata": {},
   "outputs": [
    {
     "data": {
      "image/png": "[encoded data removed]",
      "text/plain": [
       "<Figure size 511.111x500 with 1 Axes>"
      ]
     },
     "metadata": {},
     "output_type": "display_data"
    }
   ],
   "source": [
    "sns.catplot(x='test', y='time', data=energySoftware, kind='box')\n",
    "plt.show()"
   ]
  },
  {
   "cell_type": "code",
   "execution_count": 57,
   "id": "0397cb30",
   "metadata": {},
   "outputs": [
    {
     "data": {
      "image/png": "[encoded data removed]",
      "text/plain": [
       "<Figure size 500x2000 with 4 Axes>"
      ]
     },
     "metadata": {},
     "output_type": "display_data"
    }
   ],
   "source": [
    "g=sns.FacetGrid(energySoftware, row='test', height = 5)\n",
    "g.map(sns.histplot, 'time')\n",
    "plt.show()"
   ]
  },
  {
   "cell_type": "code",
   "execution_count": 58,
   "id": "72f9d54b",
   "metadata": {},
   "outputs": [
    {
     "data": {
      "text/plain": [
       "F_onewayResult(statistic=2556.3329354127823, pvalue=0.0)"
      ]
     },
     "execution_count": 58,
     "metadata": {},
     "output_type": "execute_result"
    }
   ],
   "source": [
    "stats.f_oneway(energySoftware[energySoftware[\"test\"] == \"bubblesort\"][\"time\"],\n",
    "               energySoftware[energySoftware[\"test\"] == \"bubblesort_ll\"][\"time\"],\n",
    "               energySoftware[energySoftware[\"test\"] == \"bubblesort_func\"][\"time\"],\n",
    "               energySoftware[energySoftware[\"test\"] == \"bubblesort_ll2\"][\"time\"])"
   ]
  },
  {
   "cell_type": "markdown",
   "id": "09e48999",
   "metadata": {},
   "source": [
    "We can see that the p_value tells us there is a difference in time, however it does not tell us which group of tests have different time. Further tests needs to decide that."
   ]
  }
 ],
 "metadata": {
  "kernelspec": {
   "display_name": "base",
   "language": "python",
   "name": "python3"
  },
  "language_info": {
   "codemirror_mode": {
    "name": "ipython",
    "version": 3
   },
   "file_extension": ".py",
   "mimetype": "text/x-python",
   "name": "python",
   "nbconvert_exporter": "python",
   "pygments_lexer": "ipython3",
   "version": "3.12.7"
  }
 },
 "nbformat": 4,
 "nbformat_minor": 5
}
