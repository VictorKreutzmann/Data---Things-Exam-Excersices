{
 "cells": [
  {
   "cell_type": "markdown",
   "metadata": {},
   "source": [
    "Task\n",
    "1. Create a RAG pipeline that can take following text and answer following questions\n",
    "2. Try different types of chunking to get better answers?\n",
    "3. Does asking questions differently give better answers? Why?\n",
    "4. Try a different similarity search instead of cosine similarity - do the answers improve?\n",
    "\n"
   ]
  },
  {
   "cell_type": "code",
   "execution_count": null,
   "metadata": {},
   "outputs": [],
   "source": [
    "sample_text = \"\"\"\n",
    "The Amazon rainforest is the largest tropical rainforest in the world, covering approximately 5.5 million square kilometers. It spans across nine countries, including Brazil, Peru, and Colombia. The rainforest is home to around 10% of the known species on Earth, including jaguars, sloths, and thousands of species of insects and birds.\n",
    "\n",
    "Deforestation is a significant threat to the Amazon, with thousands of square kilometers lost each year due to agriculture, logging, and urbanization. This deforestation contributes to climate change, as the rainforest acts as a major carbon sink, absorbing millions of tons of carbon dioxide annually.\n",
    "\n",
    "Indigenous tribes have lived in the Amazon for thousands of years, relying on its rich biodiversity for food, medicine, and shelter. These tribes have unique languages, traditions, and knowledge of the ecosystem. However, many face threats from illegal land encroachment and industrial activities.\n",
    "\n",
    "Scientists believe that the Amazon plays a crucial role in global weather patterns by releasing water vapor into the atmosphere, which influences rainfall across South America and even other continents. The Amazon River, which flows through the rainforest, is the second longest river in the world and carries more water than any other river.\n",
    "\n",
    "Efforts to protect the Amazon include international agreements, conservation programs, and sustainable development projects that aim to balance economic growth with environmental protection. Many organizations and governments are working to reduce illegal logging and promote reforestation initiatives.\n",
    "\"\"\""
   ]
  },
  {
   "cell_type": "code",
   "execution_count": null,
   "metadata": {},
   "outputs": [],
   "source": [
    "questions = [\n",
    "    \"What is the Amazon rainforest?\",\n",
    "    \"Which countries does the Amazon span across?\",\n",
    "    \"Why is deforestation a problem in the Amazon?\",\n",
    "    \"How does the Amazon rainforest affect global weather patterns?\",\n",
    "    \"What role do indigenous tribes play in the Amazon?\",\n",
    "    \"What is the importance of the Amazon River?\",\n",
    "    \"What types of wildlife can be found in the Amazon?\",\n",
    "    \"How does deforestation contribute to climate change?\",\n",
    "    \"What efforts are being made to protect the Amazon?\",\n",
    "    \"Why is the Amazon considered a major carbon sink?\"\n",
    "]"
   ]
  },
  {
   "cell_type": "markdown",
   "metadata": {},
   "source": [
    "### Imports"
   ]
  },
  {
   "cell_type": "code",
   "execution_count": null,
   "metadata": {},
   "outputs": [],
   "source": [
    "import numpy as np\n",
    "from sentence_transformers import SentenceTransformer\n",
    "from sklearn.metrics.pairwise import cosine_similarity\n",
    "import re"
   ]
  },
  {
   "cell_type": "markdown",
   "metadata": {},
   "source": [
    "1. Create a RAG pipeline that can take following text and answer following questions\n"
   ]
  },
  {
   "cell_type": "code",
   "execution_count": 27,
   "metadata": {},
   "outputs": [],
   "source": [
    "# Load pre-trained Sentence Transformer model\n",
    "MODEL_NAME = \"sentence-transformers/paraphrase-MiniLM-L6-v2\"\n",
    "model = SentenceTransformer(MODEL_NAME)\n",
    "\n",
    "# Encode the sample text\n",
    "sample_text = \"\"\"\n",
    "The Amazon rainforest is the largest tropical rainforest in the world, covering approximately 5.5 million square kilometers. It spans across nine countries, including Brazil, Peru, and Colombia. The rainforest is home to around 10% of the known species on Earth, including jaguars, sloths, and thousands of species of insects and birds.\n",
    "\n",
    "Deforestation is a significant threat to the Amazon, with thousands of square kilometers lost each year due to agriculture, logging, and urbanization. This deforestation contributes to climate change, as the rainforest acts as a major carbon sink, absorbing millions of tons of carbon dioxide annually.\n",
    "\n",
    "Indigenous tribes have lived in the Amazon for thousands of years, relying on its rich biodiversity for food, medicine, and shelter. These tribes have unique languages, traditions, and knowledge of the ecosystem. However, many face threats from illegal land encroachment and industrial activities.\n",
    "\n",
    "Scientists believe that the Amazon plays a crucial role in global weather patterns by releasing water vapor into the atmosphere, which influences rainfall across South America and even other continents. The Amazon River, which flows through the rainforest, is the second longest river in the world and carries more water than any other river.\n",
    "\n",
    "Efforts to protect the Amazon include international agreements, conservation programs, and sustainable development projects that aim to balance economic growth with environmental protection. Many organizations and governments are working to reduce illegal logging and promote reforestation initiatives.\n",
    "\"\"\""
   ]
  },
  {
   "cell_type": "code",
   "execution_count": 7,
   "metadata": {},
   "outputs": [],
   "source": [
    "# Function to split text into meaningful Chunks\n",
    "def split_text(text):\n",
    "    return [para.strip() for para in re.split(\"\\n+\", text) if para.strip()]  # Split by newlines and periods\n",
    "\n",
    "# Store document changes\n",
    "stored_text = split_text(sample_text)   # Split the sample text into sentences\n",
    "stored_embeddings = model.encode(stored_text)  # Encode the sentences"
   ]
  },
  {
   "cell_type": "code",
   "execution_count": 8,
   "metadata": {},
   "outputs": [
    {
     "data": {
      "text/plain": [
       "['The Amazon rainforest is the largest tropical rainforest in the world, covering approximately 5.5 million square kilometers. It spans across nine countries, including Brazil, Peru, and Colombia. The rainforest is home to around 10% of the known species on Earth, including jaguars, sloths, and thousands of species of insects and birds.',\n",
       " 'Deforestation is a significant threat to the Amazon, with thousands of square kilometers lost each year due to agriculture, logging, and urbanization. This deforestation contributes to climate change, as the rainforest acts as a major carbon sink, absorbing millions of tons of carbon dioxide annually.',\n",
       " 'Indigenous tribes have lived in the Amazon for thousands of years, relying on its rich biodiversity for food, medicine, and shelter. These tribes have unique languages, traditions, and knowledge of the ecosystem. However, many face threats from illegal land encroachment and industrial activities.',\n",
       " 'Scientists believe that the Amazon plays a crucial role in global weather patterns by releasing water vapor into the atmosphere, which influences rainfall across South America and even other continents. The Amazon River, which flows through the rainforest, is the second longest river in the world and carries more water than any other river.',\n",
       " 'Efforts to protect the Amazon include international agreements, conservation programs, and sustainable development projects that aim to balance economic growth with environmental protection. Many organizations and governments are working to reduce illegal logging and promote reforestation initiatives.']"
      ]
     },
     "execution_count": 8,
     "metadata": {},
     "output_type": "execute_result"
    }
   ],
   "source": [
    "stored_text"
   ]
  },
  {
   "cell_type": "code",
   "execution_count": 11,
   "metadata": {},
   "outputs": [],
   "source": [
    "# Function to generate embeddings\n",
    "def get_transformer_embedding(text):\n",
    "    return model.encode(text, convert_to_numpy=True)\n",
    "\n",
    "# Function to retrieve relevant text\n",
    "def retrieve_passage(query):\n",
    "    query_embedding = get_transformer_embedding([query])\n",
    "    similarities = cosine_similarity(query_embedding, stored_embeddings)[0] \n",
    "    best_match_idx = np.argmax(similarities)\n",
    "    return stored_text[best_match_idx]\n",
    "\n",
    "# Function to answer questions, based on stored content\n",
    "def answer_question(query):\n",
    "    relevant_passage = retrieve_passage(query)\n",
    "    return relevant_passage"
   ]
  },
  {
   "cell_type": "code",
   "execution_count": 13,
   "metadata": {},
   "outputs": [
    {
     "name": "stdout",
     "output_type": "stream",
     "text": [
      "\n",
      "Sample Questions and Answers:\n",
      "\n",
      "Q: What is the Amazon rainforest?\n",
      "A: The Amazon rainforest is the largest tropical rainforest in the world, covering approximately 5.5 million square kilometers. It spans across nine countries, including Brazil, Peru, and Colombia. The rainforest is home to around 10% of the known species on Earth, including jaguars, sloths, and thousands of species of insects and birds.\n",
      "\n",
      "Q: Which countries does the Amazon span across?\n",
      "A: The Amazon rainforest is the largest tropical rainforest in the world, covering approximately 5.5 million square kilometers. It spans across nine countries, including Brazil, Peru, and Colombia. The rainforest is home to around 10% of the known species on Earth, including jaguars, sloths, and thousands of species of insects and birds.\n",
      "\n",
      "Q: Why is deforestation a problem in the Amazon?\n",
      "A: Deforestation is a significant threat to the Amazon, with thousands of square kilometers lost each year due to agriculture, logging, and urbanization. This deforestation contributes to climate change, as the rainforest acts as a major carbon sink, absorbing millions of tons of carbon dioxide annually.\n",
      "\n",
      "Q: How does the Amazon rainforest affect global weather patterns?\n",
      "A: Scientists believe that the Amazon plays a crucial role in global weather patterns by releasing water vapor into the atmosphere, which influences rainfall across South America and even other continents. The Amazon River, which flows through the rainforest, is the second longest river in the world and carries more water than any other river.\n",
      "\n",
      "Q: What role do indigenous tribes play in the Amazon?\n",
      "A: Indigenous tribes have lived in the Amazon for thousands of years, relying on its rich biodiversity for food, medicine, and shelter. These tribes have unique languages, traditions, and knowledge of the ecosystem. However, many face threats from illegal land encroachment and industrial activities.\n",
      "\n",
      "Q: What is the importance of the Amazon River?\n",
      "A: Scientists believe that the Amazon plays a crucial role in global weather patterns by releasing water vapor into the atmosphere, which influences rainfall across South America and even other continents. The Amazon River, which flows through the rainforest, is the second longest river in the world and carries more water than any other river.\n",
      "\n",
      "Q: What types of wildlife can be found in the Amazon?\n",
      "A: The Amazon rainforest is the largest tropical rainforest in the world, covering approximately 5.5 million square kilometers. It spans across nine countries, including Brazil, Peru, and Colombia. The rainforest is home to around 10% of the known species on Earth, including jaguars, sloths, and thousands of species of insects and birds.\n",
      "\n",
      "Q: How does deforestation contribute to climate change?\n",
      "A: Deforestation is a significant threat to the Amazon, with thousands of square kilometers lost each year due to agriculture, logging, and urbanization. This deforestation contributes to climate change, as the rainforest acts as a major carbon sink, absorbing millions of tons of carbon dioxide annually.\n",
      "\n",
      "Q: What efforts are being made to protect the Amazon?\n",
      "A: Efforts to protect the Amazon include international agreements, conservation programs, and sustainable development projects that aim to balance economic growth with environmental protection. Many organizations and governments are working to reduce illegal logging and promote reforestation initiatives.\n",
      "\n",
      "Q: Why is the Amazon considered a major carbon sink?\n",
      "A: Deforestation is a significant threat to the Amazon, with thousands of square kilometers lost each year due to agriculture, logging, and urbanization. This deforestation contributes to climate change, as the rainforest acts as a major carbon sink, absorbing millions of tons of carbon dioxide annually.\n",
      "\n"
     ]
    }
   ],
   "source": [
    "# Sample questions and Answers\n",
    "questions = [\n",
    "    \"What is the Amazon rainforest?\",\n",
    "    \"Which countries does the Amazon span across?\",\n",
    "    \"Why is deforestation a problem in the Amazon?\",\n",
    "    \"How does the Amazon rainforest affect global weather patterns?\",\n",
    "    \"What role do indigenous tribes play in the Amazon?\",\n",
    "    \"What is the importance of the Amazon River?\",\n",
    "    \"What types of wildlife can be found in the Amazon?\",\n",
    "    \"How does deforestation contribute to climate change?\",\n",
    "    \"What efforts are being made to protect the Amazon?\",\n",
    "    \"Why is the Amazon considered a major carbon sink?\"\n",
    "]\n",
    "\n",
    "print(\"\\nSample Questions and Answers:\\n\")\n",
    "for question in questions:\n",
    "    response = answer_question(question)\n",
    "    print(f\"Q: {question}\\nA: {response}\\n\")"
   ]
  },
  {
   "cell_type": "markdown",
   "metadata": {},
   "source": [
    "2. Try different types of chunking to get better answers?\n"
   ]
  },
  {
   "cell_type": "code",
   "execution_count": 17,
   "metadata": {},
   "outputs": [
    {
     "data": {
      "text/plain": [
       "['The Amazon rainforest is the largest tropical rainforest in the world, covering approximately 5.5 million square kilometers.',\n",
       " 'It spans across nine countries, including Brazil, Peru, and Colombia.',\n",
       " 'The rainforest is home to around 10% of the known species on Earth, including jaguars, sloths, and thousands of species of insects and birds.',\n",
       " 'Deforestation is a significant threat to the Amazon, with thousands of square kilometers lost each year due to agriculture, logging, and urbanization.',\n",
       " 'This deforestation contributes to climate change, as the rainforest acts as a major carbon sink, absorbing millions of tons of carbon dioxide annually.',\n",
       " 'Indigenous tribes have lived in the Amazon for thousands of years, relying on its rich biodiversity for food, medicine, and shelter.',\n",
       " 'These tribes have unique languages, traditions, and knowledge of the ecosystem.',\n",
       " 'However, many face threats from illegal land encroachment and industrial activities.',\n",
       " 'Scientists believe that the Amazon plays a crucial role in global weather patterns by releasing water vapor into the atmosphere, which influences rainfall across South America and even other continents.',\n",
       " 'The Amazon River, which flows through the rainforest, is the second longest river in the world and carries more water than any other river.',\n",
       " 'Efforts to protect the Amazon include international agreements, conservation programs, and sustainable development projects that aim to balance economic growth with environmental protection.',\n",
       " 'Many organizations and governments are working to reduce illegal logging and promote reforestation initiatives.']"
      ]
     },
     "execution_count": 17,
     "metadata": {},
     "output_type": "execute_result"
    }
   ],
   "source": [
    "# Alternative form of chunking\n",
    "\n",
    "# Function to split text into meaningful Chunks\n",
    "def split_text(text):\n",
    "    return [sentence.strip() for sentence in re.split(r'(?<!\\w\\.\\w.)(?<![A-Z][a-z]\\.)(?<=\\.|\\?)\\s', text) if sentence.strip()]  # Split by newlines and periods\n",
    "\n",
    "\n",
    "# Store document changes\n",
    "stored_text = split_text(sample_text)   # Split the sample text into sentences\n",
    "stored_embeddings = model.encode(stored_text)  # Encode the sentences\n",
    "\n",
    "stored_text"
   ]
  },
  {
   "cell_type": "code",
   "execution_count": 18,
   "metadata": {},
   "outputs": [],
   "source": [
    "# function to generate embeddings\n",
    "def get_transformer_embedding(text):\n",
    "    return model.encode(text, convert_to_numpy=True)\n",
    "\n",
    "# Function to retrieve relevant passage\n",
    "def retrieve_passage(query):\n",
    "    query_embedding = get_transformer_embedding([query])\n",
    "    similarities = cosine_similarity(query_embedding, stored_embeddings)[0] \n",
    "    best_match_idx = np.argmax(similarities)\n",
    "    return stored_text[best_match_idx]\n",
    "\n",
    "# Function to answer questions, based on stored content\n",
    "def answer_question(query):\n",
    "    relevant_passage = retrieve_passage(query)\n",
    "    return relevant_passage"
   ]
  },
  {
   "cell_type": "code",
   "execution_count": 20,
   "metadata": {},
   "outputs": [
    {
     "name": "stdout",
     "output_type": "stream",
     "text": [
      "\n",
      "Sample Questions and Answers:\n",
      "\n",
      "Q: What is the Amazon rainforest?\n",
      "A: The Amazon rainforest is the largest tropical rainforest in the world, covering approximately 5.5 million square kilometers.\n",
      "\n",
      "Q: Which countries does the Amazon span across?\n",
      "A: Efforts to protect the Amazon include international agreements, conservation programs, and sustainable development projects that aim to balance economic growth with environmental protection.\n",
      "\n",
      "Q: Why is deforestation a problem in the Amazon?\n",
      "A: Deforestation is a significant threat to the Amazon, with thousands of square kilometers lost each year due to agriculture, logging, and urbanization.\n",
      "\n",
      "Q: How does the Amazon rainforest affect global weather patterns?\n",
      "A: Scientists believe that the Amazon plays a crucial role in global weather patterns by releasing water vapor into the atmosphere, which influences rainfall across South America and even other continents.\n",
      "\n",
      "Q: What role do indigenous tribes play in the Amazon?\n",
      "A: Indigenous tribes have lived in the Amazon for thousands of years, relying on its rich biodiversity for food, medicine, and shelter.\n",
      "\n",
      "Q: What is the importance of the Amazon River?\n",
      "A: Scientists believe that the Amazon plays a crucial role in global weather patterns by releasing water vapor into the atmosphere, which influences rainfall across South America and even other continents.\n",
      "\n",
      "Q: What types of wildlife can be found in the Amazon?\n",
      "A: Indigenous tribes have lived in the Amazon for thousands of years, relying on its rich biodiversity for food, medicine, and shelter.\n",
      "\n",
      "Q: How does deforestation contribute to climate change?\n",
      "A: This deforestation contributes to climate change, as the rainforest acts as a major carbon sink, absorbing millions of tons of carbon dioxide annually.\n",
      "\n",
      "Q: What efforts are being made to protect the Amazon?\n",
      "A: Efforts to protect the Amazon include international agreements, conservation programs, and sustainable development projects that aim to balance economic growth with environmental protection.\n",
      "\n",
      "Q: Why is the Amazon considered a major carbon sink?\n",
      "A: Scientists believe that the Amazon plays a crucial role in global weather patterns by releasing water vapor into the atmosphere, which influences rainfall across South America and even other continents.\n",
      "\n"
     ]
    }
   ],
   "source": [
    "# Sample questions and Answers\n",
    "\n",
    "questions = [\n",
    "    \"What is the Amazon rainforest?\",\n",
    "    \"Which countries does the Amazon span across?\",\n",
    "    \"Why is deforestation a problem in the Amazon?\",\n",
    "    \"How does the Amazon rainforest affect global weather patterns?\",\n",
    "    \"What role do indigenous tribes play in the Amazon?\",\n",
    "    \"What is the importance of the Amazon River?\",\n",
    "    \"What types of wildlife can be found in the Amazon?\",\n",
    "    \"How does deforestation contribute to climate change?\",\n",
    "    \"What efforts are being made to protect the Amazon?\",\n",
    "    \"Why is the Amazon considered a major carbon sink?\"\n",
    "]\n",
    "\n",
    "print(\"\\nSample Questions and Answers:\\n\")\n",
    "for question in questions:\n",
    "    response = answer_question(question)\n",
    "    print(f\"Q: {question}\\nA: {response}\\n\")"
   ]
  },
  {
   "cell_type": "markdown",
   "metadata": {},
   "source": [
    "3. Does asking questions differently give better answers? Why?\n"
   ]
  },
  {
   "cell_type": "code",
   "execution_count": null,
   "metadata": {},
   "outputs": [],
   "source": [
    "# Trying to ask the questions in a different way\n",
    "\n",
    "questions = [\n",
    "    \"What is the Amazon rainforest?\",\n",
    "    \"Which countries does the Amazon span across?\",\n",
    "    \"Why is deforestation a problem in the Amazon?\",\n",
    "    \"How does the Amazon rainforest affect global weather patterns?\",\n",
    "    \"What role do indigenous tribes play in the Amazon?\",\n",
    "    \"What is the importance of the Amazon River?\",\n",
    "    \"What types of wildlife can be found in the Amazon?\",\n",
    "    \"How does deforestation contribute to climate change?\",\n",
    "    \"What efforts are being made to protect the Amazon?\",\n",
    "    \"Why is the Amazon considered a major carbon sink?\"\n",
    "]"
   ]
  },
  {
   "cell_type": "markdown",
   "metadata": {},
   "source": [
    "Asking different questions can be beneficial in the sense that some words are weighted higher.\n",
    "\n",
    "We already removed the english stop words, so they are not interfering. But trying to ask questions with words might have a higher weight than other words, you might be able to get more precise answers.\n",
    "\n",
    "Example of this could be the question \"Which countries does the Amazon span across?\" instead of asking an open question, you could try to specify the question to \"Does the Amazon run through Brazil?\". It might be the case that \"Brazil\" have a higher weight in the model, compared to \"span\" and \"countries\"."
   ]
  },
  {
   "cell_type": "markdown",
   "metadata": {},
   "source": [
    "4. Try a different similarity search instead of cosine similarity - do the answers improve?\n"
   ]
  },
  {
   "cell_type": "code",
   "execution_count": 35,
   "metadata": {},
   "outputs": [
    {
     "data": {
      "text/plain": [
       "['The Amazon rainforest is the largest tropical rainforest in the world, covering approximately 5.5 million square kilometers.',\n",
       " 'It spans across nine countries, including Brazil, Peru, and Colombia.',\n",
       " 'The rainforest is home to around 10% of the known species on Earth, including jaguars, sloths, and thousands of species of insects and birds.',\n",
       " 'Deforestation is a significant threat to the Amazon, with thousands of square kilometers lost each year due to agriculture, logging, and urbanization.',\n",
       " 'This deforestation contributes to climate change, as the rainforest acts as a major carbon sink, absorbing millions of tons of carbon dioxide annually.',\n",
       " 'Indigenous tribes have lived in the Amazon for thousands of years, relying on its rich biodiversity for food, medicine, and shelter.',\n",
       " 'These tribes have unique languages, traditions, and knowledge of the ecosystem.',\n",
       " 'However, many face threats from illegal land encroachment and industrial activities.',\n",
       " 'Scientists believe that the Amazon plays a crucial role in global weather patterns by releasing water vapor into the atmosphere, which influences rainfall across South America and even other continents.',\n",
       " 'The Amazon River, which flows through the rainforest, is the second longest river in the world and carries more water than any other river.',\n",
       " 'Efforts to protect the Amazon include international agreements, conservation programs, and sustainable development projects that aim to balance economic growth with environmental protection.',\n",
       " 'Many organizations and governments are working to reduce illegal logging and promote reforestation initiatives.']"
      ]
     },
     "execution_count": 35,
     "metadata": {},
     "output_type": "execute_result"
    }
   ],
   "source": [
    "# Tryin a different similarity search instead of cosine similarity\n",
    "from sklearn.metrics.pairwise import euclidean_distances\n",
    "\n",
    "# Function to split text into meaningful Chunks\n",
    "def split_text(text):\n",
    "    return [sentence.strip() for sentence in re.split(r'(?<!\\w\\.\\w.)(?<![A-Z][a-z]\\.)(?<=\\.|\\?)\\s', text) if sentence.strip()]  # Split by newlines and periods\n",
    "\n",
    "# Store document changes\n",
    "stored_text = split_text(sample_text)   # Split the sample text into sentences\n",
    "stored_embeddings = model.encode(stored_text)  # Encode the sentences\n",
    "\n",
    "stored_text"
   ]
  },
  {
   "cell_type": "code",
   "execution_count": 37,
   "metadata": {},
   "outputs": [],
   "source": [
    "# Function to generate embeddings\n",
    "def get_transformer_embedding(text):\n",
    "    return model.encode(text, convert_to_numpy=True)\n",
    "\n",
    "# Function to retrieve relevant passage\n",
    "def retrieve_passage(query):\n",
    "    query_embedding = get_transformer_embedding([query])\n",
    "    similarities = euclidean_distances(query_embedding, stored_embeddings)[0] \n",
    "    best_match_idx = np.argmin(similarities)\n",
    "    return stored_text[best_match_idx]\n",
    "\n",
    "# Function to answer questions, based on stored content\n",
    "def answer_question(query):\n",
    "    relevant_passage = retrieve_passage(query)\n",
    "    return relevant_passage"
   ]
  },
  {
   "cell_type": "code",
   "execution_count": 38,
   "metadata": {},
   "outputs": [
    {
     "name": "stdout",
     "output_type": "stream",
     "text": [
      "\n",
      "Sample Questions and Answers:\n",
      "\n",
      "Q: What is the Amazon rainforest?\n",
      "A: The Amazon rainforest is the largest tropical rainforest in the world, covering approximately 5.5 million square kilometers.\n",
      "\n",
      "Q: Which countries does the Amazon span across?\n",
      "A: Efforts to protect the Amazon include international agreements, conservation programs, and sustainable development projects that aim to balance economic growth with environmental protection.\n",
      "\n",
      "Q: Why is deforestation a problem in the Amazon?\n",
      "A: Deforestation is a significant threat to the Amazon, with thousands of square kilometers lost each year due to agriculture, logging, and urbanization.\n",
      "\n",
      "Q: How does the Amazon rainforest affect global weather patterns?\n",
      "A: Scientists believe that the Amazon plays a crucial role in global weather patterns by releasing water vapor into the atmosphere, which influences rainfall across South America and even other continents.\n",
      "\n",
      "Q: What role do indigenous tribes play in the Amazon?\n",
      "A: Indigenous tribes have lived in the Amazon for thousands of years, relying on its rich biodiversity for food, medicine, and shelter.\n",
      "\n",
      "Q: What is the importance of the Amazon River?\n",
      "A: Scientists believe that the Amazon plays a crucial role in global weather patterns by releasing water vapor into the atmosphere, which influences rainfall across South America and even other continents.\n",
      "\n",
      "Q: What types of wildlife can be found in the Amazon?\n",
      "A: Indigenous tribes have lived in the Amazon for thousands of years, relying on its rich biodiversity for food, medicine, and shelter.\n",
      "\n",
      "Q: How does deforestation contribute to climate change?\n",
      "A: This deforestation contributes to climate change, as the rainforest acts as a major carbon sink, absorbing millions of tons of carbon dioxide annually.\n",
      "\n",
      "Q: What efforts are being made to protect the Amazon?\n",
      "A: Efforts to protect the Amazon include international agreements, conservation programs, and sustainable development projects that aim to balance economic growth with environmental protection.\n",
      "\n",
      "Q: Why is the Amazon considered a major carbon sink?\n",
      "A: Scientists believe that the Amazon plays a crucial role in global weather patterns by releasing water vapor into the atmosphere, which influences rainfall across South America and even other continents.\n",
      "\n"
     ]
    }
   ],
   "source": [
    "# Sample questions and Answers\n",
    "questions = [\n",
    "    \"What is the Amazon rainforest?\",\n",
    "    \"Which countries does the Amazon span across?\",\n",
    "    \"Why is deforestation a problem in the Amazon?\",\n",
    "    \"How does the Amazon rainforest affect global weather patterns?\",\n",
    "    \"What role do indigenous tribes play in the Amazon?\",\n",
    "    \"What is the importance of the Amazon River?\",\n",
    "    \"What types of wildlife can be found in the Amazon?\",\n",
    "    \"How does deforestation contribute to climate change?\",\n",
    "    \"What efforts are being made to protect the Amazon?\",\n",
    "    \"Why is the Amazon considered a major carbon sink?\"\n",
    "]\n",
    "\n",
    "print(\"\\nSample Questions and Answers:\\n\")\n",
    "for question in questions:\n",
    "    response = answer_question(question)\n",
    "    print(f\"Q: {question}\\nA: {response}\\n\")"
   ]
  }
 ],
 "metadata": {
  "kernelspec": {
   "display_name": "base",
   "language": "python",
   "name": "python3"
  },
  "language_info": {
   "codemirror_mode": {
    "name": "ipython",
    "version": 3
   },
   "file_extension": ".py",
   "mimetype": "text/x-python",
   "name": "python",
   "nbconvert_exporter": "python",
   "pygments_lexer": "ipython3",
   "version": "3.12.7"
  }
 },
 "nbformat": 4,
 "nbformat_minor": 2
}
