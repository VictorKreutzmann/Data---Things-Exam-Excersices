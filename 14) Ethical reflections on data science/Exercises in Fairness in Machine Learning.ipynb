{
 "cells": [
  {
   "cell_type": "markdown",
   "id": "28aa1c27-098d-4d9a-8bc7-fb8b18622a8a",
   "metadata": {},
   "source": [
    "# Exercises in Fairness in Machine Learning"
   ]
  },
  {
   "cell_type": "code",
   "execution_count": 1,
   "id": "7f730679-0c7a-482a-8988-473fe3eaf408",
   "metadata": {},
   "outputs": [],
   "source": [
    "import pandas as pd\n",
    "import numpy as np  \n",
    "import matplotlib.pyplot as plt\n",
    "import seaborn as sns\n",
    "from sklearn.model_selection import train_test_split\n",
    "import xgboost as xgb\n",
    "from sklearn.metrics import classification_report, confusion_matrix, accuracy_score, ConfusionMatrixDisplay\n"
   ]
  },
  {
   "cell_type": "markdown",
   "id": "617225f5-aa08-4b00-b158-d1da4b52f649",
   "metadata": {},
   "source": [
    "## Exercise 1\n",
    "\n",
    "For this exercise, we will use the `adult` dataset (available on moodle or from the [UCI Machine Learning repository](https://archive.ics.uci.edu/dataset/2/adult)). Do the following:\n",
    "\n",
    "1. Load in the dataset and correct the error in the income column (replace the \".\" with the empty string such that there are only two categories).\n",
    "2. Create an X dataset using the variables \"age\", \"workclass\", \"education\", \"occupation\", \"race\", \"sex\", \"hours-per-week\". For the categorical variables with missing values, replace the missing values with a new category \"Unknown\". Also replace any values that are \"?\" with the value \"Unknown (using `str.replace`, for instance)\n",
    "3. Turn the five categorical variables in X into dummy variables and remove the original five variables (This will probably give you around 44 columns in X)\n",
    "4. Create the response variable y, such that it is 1 if the `income` variable in the adult dataset is `>50K` and 0 if the value is `<=50K`.\n",
    "5. Do a train-test split with 30% of the data for test (using `random_state=123`) and train a `XGBoost` classification model on the training data.\n",
    "6. Evaluate your models using various evaluation metrics and look at the confusion matrix of your model.\n",
    "7. To be able to calculate the various fairness metrics in regard to the variable `sex`, we need to construct two separate confusion matrices for the test dataset, one for `female` and one for `male`. First, create separate test sets for `female` and `male` as well as the predicted values for each gender. That is, create `X_test_female`, `X_test_male`, `y_test_female`, `y_test_male`, `y_pred_female`, and `y_pred_male`. (Hint: You can create `X_test_female` by `X_test_female = X_test[X_test[\"sex_Male\"] == 0]` and `y_test_male` by `y_test_male = y_test[X_test[\"sex_Male\"] == 1]`, for instance.)\n",
    "8. Calculate the accuracy for female and male for the XGBoost model and comment on the results.\n",
    "9. We can now create the True Positive (TP), True Negative (TN), False Positive (FP), and False Negative (FN) for each gender. That is, calculate the eight values `TP_f`, `TN_f`, `FP_f`, `FN_f`, `TP_m`, `TN_m`, `FP_m`, and `FN_m`. (Hint: You can calculate the False Positive for female (FP_f) by `FP_f = sum((y_test_female == 0) & (y_pred_female == 1))`.)\n",
    "10. Is there error rate balance across different genders, i.e. are the false positive rate (FPR) and false negative rate (FNR) the same across the two genders?\n",
    "11. Is there predictive parity across different genders?\n",
    "12. Is there Statistical parity across different genders?\n",
    "13. [Discussion question] Can your any of your models be used to make fair salary predictions?\n",
    "14. [Discussion question] In what sense is the `adult` dataset biased (unfair)?\n",
    "15. [Discussion question] If the dataset is biased, where could the bias potentially come from?\n",
    "16. [Optional] If you balance the number of males and females in the dataset (like we balanced the response variable in the Churn example), will you model become more fair?"
   ]
  },
  {
   "cell_type": "code",
   "execution_count": 2,
   "id": "7b37c437-a661-494f-b655-dbef1d77b0b3",
   "metadata": {},
   "outputs": [
    {
     "data": {
      "text/html": [
       "<div>\n",
       "<style scoped>\n",
       "    .dataframe tbody tr th:only-of-type {\n",
       "        vertical-align: middle;\n",
       "    }\n",
       "\n",
       "    .dataframe tbody tr th {\n",
       "        vertical-align: top;\n",
       "    }\n",
       "\n",
       "    .dataframe thead th {\n",
       "        text-align: right;\n",
       "    }\n",
       "</style>\n",
       "<table border=\"1\" class=\"dataframe\">\n",
       "  <thead>\n",
       "    <tr style=\"text-align: right;\">\n",
       "      <th></th>\n",
       "      <th>age</th>\n",
       "      <th>workclass</th>\n",
       "      <th>fnlwgt</th>\n",
       "      <th>education</th>\n",
       "      <th>education-num</th>\n",
       "      <th>marital-status</th>\n",
       "      <th>occupation</th>\n",
       "      <th>relationship</th>\n",
       "      <th>race</th>\n",
       "      <th>sex</th>\n",
       "      <th>capital-gain</th>\n",
       "      <th>capital-loss</th>\n",
       "      <th>hours-per-week</th>\n",
       "      <th>native-country</th>\n",
       "      <th>income</th>\n",
       "    </tr>\n",
       "  </thead>\n",
       "  <tbody>\n",
       "    <tr>\n",
       "      <th>0</th>\n",
       "      <td>39</td>\n",
       "      <td>State-gov</td>\n",
       "      <td>77516</td>\n",
       "      <td>Bachelors</td>\n",
       "      <td>13</td>\n",
       "      <td>Never-married</td>\n",
       "      <td>Adm-clerical</td>\n",
       "      <td>Not-in-family</td>\n",
       "      <td>White</td>\n",
       "      <td>Male</td>\n",
       "      <td>2174</td>\n",
       "      <td>0</td>\n",
       "      <td>40</td>\n",
       "      <td>United-States</td>\n",
       "      <td>&lt;=50K</td>\n",
       "    </tr>\n",
       "    <tr>\n",
       "      <th>1</th>\n",
       "      <td>50</td>\n",
       "      <td>Self-emp-not-inc</td>\n",
       "      <td>83311</td>\n",
       "      <td>Bachelors</td>\n",
       "      <td>13</td>\n",
       "      <td>Married-civ-spouse</td>\n",
       "      <td>Exec-managerial</td>\n",
       "      <td>Husband</td>\n",
       "      <td>White</td>\n",
       "      <td>Male</td>\n",
       "      <td>0</td>\n",
       "      <td>0</td>\n",
       "      <td>13</td>\n",
       "      <td>United-States</td>\n",
       "      <td>&lt;=50K</td>\n",
       "    </tr>\n",
       "    <tr>\n",
       "      <th>2</th>\n",
       "      <td>38</td>\n",
       "      <td>Private</td>\n",
       "      <td>215646</td>\n",
       "      <td>HS-grad</td>\n",
       "      <td>9</td>\n",
       "      <td>Divorced</td>\n",
       "      <td>Handlers-cleaners</td>\n",
       "      <td>Not-in-family</td>\n",
       "      <td>White</td>\n",
       "      <td>Male</td>\n",
       "      <td>0</td>\n",
       "      <td>0</td>\n",
       "      <td>40</td>\n",
       "      <td>United-States</td>\n",
       "      <td>&lt;=50K</td>\n",
       "    </tr>\n",
       "    <tr>\n",
       "      <th>3</th>\n",
       "      <td>53</td>\n",
       "      <td>Private</td>\n",
       "      <td>234721</td>\n",
       "      <td>11th</td>\n",
       "      <td>7</td>\n",
       "      <td>Married-civ-spouse</td>\n",
       "      <td>Handlers-cleaners</td>\n",
       "      <td>Husband</td>\n",
       "      <td>Black</td>\n",
       "      <td>Male</td>\n",
       "      <td>0</td>\n",
       "      <td>0</td>\n",
       "      <td>40</td>\n",
       "      <td>United-States</td>\n",
       "      <td>&lt;=50K</td>\n",
       "    </tr>\n",
       "    <tr>\n",
       "      <th>4</th>\n",
       "      <td>28</td>\n",
       "      <td>Private</td>\n",
       "      <td>338409</td>\n",
       "      <td>Bachelors</td>\n",
       "      <td>13</td>\n",
       "      <td>Married-civ-spouse</td>\n",
       "      <td>Prof-specialty</td>\n",
       "      <td>Wife</td>\n",
       "      <td>Black</td>\n",
       "      <td>Female</td>\n",
       "      <td>0</td>\n",
       "      <td>0</td>\n",
       "      <td>40</td>\n",
       "      <td>Cuba</td>\n",
       "      <td>&lt;=50K</td>\n",
       "    </tr>\n",
       "    <tr>\n",
       "      <th>...</th>\n",
       "      <td>...</td>\n",
       "      <td>...</td>\n",
       "      <td>...</td>\n",
       "      <td>...</td>\n",
       "      <td>...</td>\n",
       "      <td>...</td>\n",
       "      <td>...</td>\n",
       "      <td>...</td>\n",
       "      <td>...</td>\n",
       "      <td>...</td>\n",
       "      <td>...</td>\n",
       "      <td>...</td>\n",
       "      <td>...</td>\n",
       "      <td>...</td>\n",
       "      <td>...</td>\n",
       "    </tr>\n",
       "    <tr>\n",
       "      <th>48837</th>\n",
       "      <td>39</td>\n",
       "      <td>Private</td>\n",
       "      <td>215419</td>\n",
       "      <td>Bachelors</td>\n",
       "      <td>13</td>\n",
       "      <td>Divorced</td>\n",
       "      <td>Prof-specialty</td>\n",
       "      <td>Not-in-family</td>\n",
       "      <td>White</td>\n",
       "      <td>Female</td>\n",
       "      <td>0</td>\n",
       "      <td>0</td>\n",
       "      <td>36</td>\n",
       "      <td>United-States</td>\n",
       "      <td>&lt;=50K.</td>\n",
       "    </tr>\n",
       "    <tr>\n",
       "      <th>48838</th>\n",
       "      <td>64</td>\n",
       "      <td>NaN</td>\n",
       "      <td>321403</td>\n",
       "      <td>HS-grad</td>\n",
       "      <td>9</td>\n",
       "      <td>Widowed</td>\n",
       "      <td>NaN</td>\n",
       "      <td>Other-relative</td>\n",
       "      <td>Black</td>\n",
       "      <td>Male</td>\n",
       "      <td>0</td>\n",
       "      <td>0</td>\n",
       "      <td>40</td>\n",
       "      <td>United-States</td>\n",
       "      <td>&lt;=50K.</td>\n",
       "    </tr>\n",
       "    <tr>\n",
       "      <th>48839</th>\n",
       "      <td>38</td>\n",
       "      <td>Private</td>\n",
       "      <td>374983</td>\n",
       "      <td>Bachelors</td>\n",
       "      <td>13</td>\n",
       "      <td>Married-civ-spouse</td>\n",
       "      <td>Prof-specialty</td>\n",
       "      <td>Husband</td>\n",
       "      <td>White</td>\n",
       "      <td>Male</td>\n",
       "      <td>0</td>\n",
       "      <td>0</td>\n",
       "      <td>50</td>\n",
       "      <td>United-States</td>\n",
       "      <td>&lt;=50K.</td>\n",
       "    </tr>\n",
       "    <tr>\n",
       "      <th>48840</th>\n",
       "      <td>44</td>\n",
       "      <td>Private</td>\n",
       "      <td>83891</td>\n",
       "      <td>Bachelors</td>\n",
       "      <td>13</td>\n",
       "      <td>Divorced</td>\n",
       "      <td>Adm-clerical</td>\n",
       "      <td>Own-child</td>\n",
       "      <td>Asian-Pac-Islander</td>\n",
       "      <td>Male</td>\n",
       "      <td>5455</td>\n",
       "      <td>0</td>\n",
       "      <td>40</td>\n",
       "      <td>United-States</td>\n",
       "      <td>&lt;=50K.</td>\n",
       "    </tr>\n",
       "    <tr>\n",
       "      <th>48841</th>\n",
       "      <td>35</td>\n",
       "      <td>Self-emp-inc</td>\n",
       "      <td>182148</td>\n",
       "      <td>Bachelors</td>\n",
       "      <td>13</td>\n",
       "      <td>Married-civ-spouse</td>\n",
       "      <td>Exec-managerial</td>\n",
       "      <td>Husband</td>\n",
       "      <td>White</td>\n",
       "      <td>Male</td>\n",
       "      <td>0</td>\n",
       "      <td>0</td>\n",
       "      <td>60</td>\n",
       "      <td>United-States</td>\n",
       "      <td>&gt;50K.</td>\n",
       "    </tr>\n",
       "  </tbody>\n",
       "</table>\n",
       "<p>48842 rows × 15 columns</p>\n",
       "</div>"
      ],
      "text/plain": [
       "       age         workclass  fnlwgt  education  education-num  \\\n",
       "0       39         State-gov   77516  Bachelors             13   \n",
       "1       50  Self-emp-not-inc   83311  Bachelors             13   \n",
       "2       38           Private  215646    HS-grad              9   \n",
       "3       53           Private  234721       11th              7   \n",
       "4       28           Private  338409  Bachelors             13   \n",
       "...    ...               ...     ...        ...            ...   \n",
       "48837   39           Private  215419  Bachelors             13   \n",
       "48838   64               NaN  321403    HS-grad              9   \n",
       "48839   38           Private  374983  Bachelors             13   \n",
       "48840   44           Private   83891  Bachelors             13   \n",
       "48841   35      Self-emp-inc  182148  Bachelors             13   \n",
       "\n",
       "           marital-status         occupation    relationship  \\\n",
       "0           Never-married       Adm-clerical   Not-in-family   \n",
       "1      Married-civ-spouse    Exec-managerial         Husband   \n",
       "2                Divorced  Handlers-cleaners   Not-in-family   \n",
       "3      Married-civ-spouse  Handlers-cleaners         Husband   \n",
       "4      Married-civ-spouse     Prof-specialty            Wife   \n",
       "...                   ...                ...             ...   \n",
       "48837            Divorced     Prof-specialty   Not-in-family   \n",
       "48838             Widowed                NaN  Other-relative   \n",
       "48839  Married-civ-spouse     Prof-specialty         Husband   \n",
       "48840            Divorced       Adm-clerical       Own-child   \n",
       "48841  Married-civ-spouse    Exec-managerial         Husband   \n",
       "\n",
       "                     race     sex  capital-gain  capital-loss  hours-per-week  \\\n",
       "0                   White    Male          2174             0              40   \n",
       "1                   White    Male             0             0              13   \n",
       "2                   White    Male             0             0              40   \n",
       "3                   Black    Male             0             0              40   \n",
       "4                   Black  Female             0             0              40   \n",
       "...                   ...     ...           ...           ...             ...   \n",
       "48837               White  Female             0             0              36   \n",
       "48838               Black    Male             0             0              40   \n",
       "48839               White    Male             0             0              50   \n",
       "48840  Asian-Pac-Islander    Male          5455             0              40   \n",
       "48841               White    Male             0             0              60   \n",
       "\n",
       "      native-country  income  \n",
       "0      United-States   <=50K  \n",
       "1      United-States   <=50K  \n",
       "2      United-States   <=50K  \n",
       "3      United-States   <=50K  \n",
       "4               Cuba   <=50K  \n",
       "...              ...     ...  \n",
       "48837  United-States  <=50K.  \n",
       "48838  United-States  <=50K.  \n",
       "48839  United-States  <=50K.  \n",
       "48840  United-States  <=50K.  \n",
       "48841  United-States   >50K.  \n",
       "\n",
       "[48842 rows x 15 columns]"
      ]
     },
     "execution_count": 2,
     "metadata": {},
     "output_type": "execute_result"
    }
   ],
   "source": [
    "# Read the data\n",
    "data = pd.read_csv('adult.csv')\n",
    "data"
   ]
  },
  {
   "cell_type": "code",
   "execution_count": 3,
   "id": "f4bb239d",
   "metadata": {},
   "outputs": [
    {
     "name": "stdout",
     "output_type": "stream",
     "text": [
      "['<=50K' '>50K']\n"
     ]
    }
   ],
   "source": [
    "data['income'] = data['income'].str.strip().str.replace(r'\\.', '', regex=True)\n",
    "print(data['income'].unique())"
   ]
  },
  {
   "cell_type": "markdown",
   "id": "47c2a14d",
   "metadata": {},
   "source": [
    "# 2. \n",
    "Create an X dataset using the variables \"age\", \"workclass\", \"education\", \"occupation\", \"race\", \"sex\", \"hours-per-week\". For the categorical variables with missing values, replace the missing values with a new category \"Unknown\". Also replace any values that are \"?\" with the value \"Unknown (using `str.replace`, for instance)"
   ]
  },
  {
   "cell_type": "code",
   "execution_count": 20,
   "id": "56e6f0e1",
   "metadata": {},
   "outputs": [
    {
     "data": {
      "text/html": [
       "<div>\n",
       "<style scoped>\n",
       "    .dataframe tbody tr th:only-of-type {\n",
       "        vertical-align: middle;\n",
       "    }\n",
       "\n",
       "    .dataframe tbody tr th {\n",
       "        vertical-align: top;\n",
       "    }\n",
       "\n",
       "    .dataframe thead th {\n",
       "        text-align: right;\n",
       "    }\n",
       "</style>\n",
       "<table border=\"1\" class=\"dataframe\">\n",
       "  <thead>\n",
       "    <tr style=\"text-align: right;\">\n",
       "      <th></th>\n",
       "      <th>age</th>\n",
       "      <th>workclass</th>\n",
       "      <th>education</th>\n",
       "      <th>occupation</th>\n",
       "      <th>race</th>\n",
       "      <th>sex</th>\n",
       "      <th>hours-per-week</th>\n",
       "    </tr>\n",
       "  </thead>\n",
       "  <tbody>\n",
       "    <tr>\n",
       "      <th>0</th>\n",
       "      <td>39</td>\n",
       "      <td>State-gov</td>\n",
       "      <td>Bachelors</td>\n",
       "      <td>Adm-clerical</td>\n",
       "      <td>White</td>\n",
       "      <td>Male</td>\n",
       "      <td>40</td>\n",
       "    </tr>\n",
       "    <tr>\n",
       "      <th>1</th>\n",
       "      <td>50</td>\n",
       "      <td>Self-emp-not-inc</td>\n",
       "      <td>Bachelors</td>\n",
       "      <td>Exec-managerial</td>\n",
       "      <td>White</td>\n",
       "      <td>Male</td>\n",
       "      <td>13</td>\n",
       "    </tr>\n",
       "    <tr>\n",
       "      <th>2</th>\n",
       "      <td>38</td>\n",
       "      <td>Private</td>\n",
       "      <td>HS-grad</td>\n",
       "      <td>Handlers-cleaners</td>\n",
       "      <td>White</td>\n",
       "      <td>Male</td>\n",
       "      <td>40</td>\n",
       "    </tr>\n",
       "    <tr>\n",
       "      <th>3</th>\n",
       "      <td>53</td>\n",
       "      <td>Private</td>\n",
       "      <td>11th</td>\n",
       "      <td>Handlers-cleaners</td>\n",
       "      <td>Black</td>\n",
       "      <td>Male</td>\n",
       "      <td>40</td>\n",
       "    </tr>\n",
       "    <tr>\n",
       "      <th>4</th>\n",
       "      <td>28</td>\n",
       "      <td>Private</td>\n",
       "      <td>Bachelors</td>\n",
       "      <td>Prof-specialty</td>\n",
       "      <td>Black</td>\n",
       "      <td>Female</td>\n",
       "      <td>40</td>\n",
       "    </tr>\n",
       "  </tbody>\n",
       "</table>\n",
       "</div>"
      ],
      "text/plain": [
       "   age         workclass  education         occupation   race     sex  \\\n",
       "0   39         State-gov  Bachelors       Adm-clerical  White    Male   \n",
       "1   50  Self-emp-not-inc  Bachelors    Exec-managerial  White    Male   \n",
       "2   38           Private    HS-grad  Handlers-cleaners  White    Male   \n",
       "3   53           Private       11th  Handlers-cleaners  Black    Male   \n",
       "4   28           Private  Bachelors     Prof-specialty  Black  Female   \n",
       "\n",
       "   hours-per-week  \n",
       "0              40  \n",
       "1              13  \n",
       "2              40  \n",
       "3              40  \n",
       "4              40  "
      ]
     },
     "execution_count": 20,
     "metadata": {},
     "output_type": "execute_result"
    }
   ],
   "source": [
    "# Select the relevant columns\n",
    "X = data[['age', 'workclass', 'education', 'occupation', 'race', 'sex', 'hours-per-week']]\n",
    "\n",
    "# Replace missing values with 'Unknown'\n",
    "X.loc[:, 'workclass'] = X['workclass'].fillna('Unknown')\n",
    "X.loc[:, 'occupation'] = X['occupation'].fillna('Unknown')\n",
    "X.loc[:, 'race'] = X['race'].fillna('Unknown')\n",
    "X.loc[:, 'sex'] = X['sex'].fillna('Unknown')\n",
    "\n",
    "# Replace '?' with 'Unknown'\n",
    "X = X.replace('?', 'Unknown')\n",
    "\n",
    "X.head()"
   ]
  },
  {
   "cell_type": "markdown",
   "id": "4d1e11c5",
   "metadata": {},
   "source": [
    "# 3. \n",
    "Turn the five categorical variables in X into dummy variables and remove the original five variables (This will probably give you around 44 columns in X)"
   ]
  },
  {
   "cell_type": "code",
   "execution_count": 5,
   "id": "3c4eeed1",
   "metadata": {},
   "outputs": [
    {
     "data": {
      "text/plain": [
       "(48842, 44)"
      ]
     },
     "execution_count": 5,
     "metadata": {},
     "output_type": "execute_result"
    }
   ],
   "source": [
    "X = pd.get_dummies(X, columns=['workclass', 'education', 'occupation', 'race', 'sex'], drop_first=True)\n",
    "X.shape"
   ]
  },
  {
   "cell_type": "code",
   "execution_count": 6,
   "id": "0808fb58",
   "metadata": {},
   "outputs": [
    {
     "data": {
      "text/html": [
       "<div>\n",
       "<style scoped>\n",
       "    .dataframe tbody tr th:only-of-type {\n",
       "        vertical-align: middle;\n",
       "    }\n",
       "\n",
       "    .dataframe tbody tr th {\n",
       "        vertical-align: top;\n",
       "    }\n",
       "\n",
       "    .dataframe thead th {\n",
       "        text-align: right;\n",
       "    }\n",
       "</style>\n",
       "<table border=\"1\" class=\"dataframe\">\n",
       "  <thead>\n",
       "    <tr style=\"text-align: right;\">\n",
       "      <th></th>\n",
       "      <th>age</th>\n",
       "      <th>hours-per-week</th>\n",
       "      <th>workclass_Local-gov</th>\n",
       "      <th>workclass_Never-worked</th>\n",
       "      <th>workclass_Private</th>\n",
       "      <th>workclass_Self-emp-inc</th>\n",
       "      <th>workclass_Self-emp-not-inc</th>\n",
       "      <th>workclass_State-gov</th>\n",
       "      <th>workclass_Unknown</th>\n",
       "      <th>workclass_Without-pay</th>\n",
       "      <th>...</th>\n",
       "      <th>occupation_Protective-serv</th>\n",
       "      <th>occupation_Sales</th>\n",
       "      <th>occupation_Tech-support</th>\n",
       "      <th>occupation_Transport-moving</th>\n",
       "      <th>occupation_Unknown</th>\n",
       "      <th>race_Asian-Pac-Islander</th>\n",
       "      <th>race_Black</th>\n",
       "      <th>race_Other</th>\n",
       "      <th>race_White</th>\n",
       "      <th>sex_Male</th>\n",
       "    </tr>\n",
       "  </thead>\n",
       "  <tbody>\n",
       "    <tr>\n",
       "      <th>0</th>\n",
       "      <td>39</td>\n",
       "      <td>40</td>\n",
       "      <td>False</td>\n",
       "      <td>False</td>\n",
       "      <td>False</td>\n",
       "      <td>False</td>\n",
       "      <td>False</td>\n",
       "      <td>True</td>\n",
       "      <td>False</td>\n",
       "      <td>False</td>\n",
       "      <td>...</td>\n",
       "      <td>False</td>\n",
       "      <td>False</td>\n",
       "      <td>False</td>\n",
       "      <td>False</td>\n",
       "      <td>False</td>\n",
       "      <td>False</td>\n",
       "      <td>False</td>\n",
       "      <td>False</td>\n",
       "      <td>True</td>\n",
       "      <td>True</td>\n",
       "    </tr>\n",
       "    <tr>\n",
       "      <th>1</th>\n",
       "      <td>50</td>\n",
       "      <td>13</td>\n",
       "      <td>False</td>\n",
       "      <td>False</td>\n",
       "      <td>False</td>\n",
       "      <td>False</td>\n",
       "      <td>True</td>\n",
       "      <td>False</td>\n",
       "      <td>False</td>\n",
       "      <td>False</td>\n",
       "      <td>...</td>\n",
       "      <td>False</td>\n",
       "      <td>False</td>\n",
       "      <td>False</td>\n",
       "      <td>False</td>\n",
       "      <td>False</td>\n",
       "      <td>False</td>\n",
       "      <td>False</td>\n",
       "      <td>False</td>\n",
       "      <td>True</td>\n",
       "      <td>True</td>\n",
       "    </tr>\n",
       "    <tr>\n",
       "      <th>2</th>\n",
       "      <td>38</td>\n",
       "      <td>40</td>\n",
       "      <td>False</td>\n",
       "      <td>False</td>\n",
       "      <td>True</td>\n",
       "      <td>False</td>\n",
       "      <td>False</td>\n",
       "      <td>False</td>\n",
       "      <td>False</td>\n",
       "      <td>False</td>\n",
       "      <td>...</td>\n",
       "      <td>False</td>\n",
       "      <td>False</td>\n",
       "      <td>False</td>\n",
       "      <td>False</td>\n",
       "      <td>False</td>\n",
       "      <td>False</td>\n",
       "      <td>False</td>\n",
       "      <td>False</td>\n",
       "      <td>True</td>\n",
       "      <td>True</td>\n",
       "    </tr>\n",
       "    <tr>\n",
       "      <th>3</th>\n",
       "      <td>53</td>\n",
       "      <td>40</td>\n",
       "      <td>False</td>\n",
       "      <td>False</td>\n",
       "      <td>True</td>\n",
       "      <td>False</td>\n",
       "      <td>False</td>\n",
       "      <td>False</td>\n",
       "      <td>False</td>\n",
       "      <td>False</td>\n",
       "      <td>...</td>\n",
       "      <td>False</td>\n",
       "      <td>False</td>\n",
       "      <td>False</td>\n",
       "      <td>False</td>\n",
       "      <td>False</td>\n",
       "      <td>False</td>\n",
       "      <td>True</td>\n",
       "      <td>False</td>\n",
       "      <td>False</td>\n",
       "      <td>True</td>\n",
       "    </tr>\n",
       "    <tr>\n",
       "      <th>4</th>\n",
       "      <td>28</td>\n",
       "      <td>40</td>\n",
       "      <td>False</td>\n",
       "      <td>False</td>\n",
       "      <td>True</td>\n",
       "      <td>False</td>\n",
       "      <td>False</td>\n",
       "      <td>False</td>\n",
       "      <td>False</td>\n",
       "      <td>False</td>\n",
       "      <td>...</td>\n",
       "      <td>False</td>\n",
       "      <td>False</td>\n",
       "      <td>False</td>\n",
       "      <td>False</td>\n",
       "      <td>False</td>\n",
       "      <td>False</td>\n",
       "      <td>True</td>\n",
       "      <td>False</td>\n",
       "      <td>False</td>\n",
       "      <td>False</td>\n",
       "    </tr>\n",
       "  </tbody>\n",
       "</table>\n",
       "<p>5 rows × 44 columns</p>\n",
       "</div>"
      ],
      "text/plain": [
       "   age  hours-per-week  workclass_Local-gov  workclass_Never-worked  \\\n",
       "0   39              40                False                   False   \n",
       "1   50              13                False                   False   \n",
       "2   38              40                False                   False   \n",
       "3   53              40                False                   False   \n",
       "4   28              40                False                   False   \n",
       "\n",
       "   workclass_Private  workclass_Self-emp-inc  workclass_Self-emp-not-inc  \\\n",
       "0              False                   False                       False   \n",
       "1              False                   False                        True   \n",
       "2               True                   False                       False   \n",
       "3               True                   False                       False   \n",
       "4               True                   False                       False   \n",
       "\n",
       "   workclass_State-gov  workclass_Unknown  workclass_Without-pay  ...  \\\n",
       "0                 True              False                  False  ...   \n",
       "1                False              False                  False  ...   \n",
       "2                False              False                  False  ...   \n",
       "3                False              False                  False  ...   \n",
       "4                False              False                  False  ...   \n",
       "\n",
       "   occupation_Protective-serv  occupation_Sales  occupation_Tech-support  \\\n",
       "0                       False             False                    False   \n",
       "1                       False             False                    False   \n",
       "2                       False             False                    False   \n",
       "3                       False             False                    False   \n",
       "4                       False             False                    False   \n",
       "\n",
       "   occupation_Transport-moving  occupation_Unknown  race_Asian-Pac-Islander  \\\n",
       "0                        False               False                    False   \n",
       "1                        False               False                    False   \n",
       "2                        False               False                    False   \n",
       "3                        False               False                    False   \n",
       "4                        False               False                    False   \n",
       "\n",
       "   race_Black  race_Other  race_White  sex_Male  \n",
       "0       False       False        True      True  \n",
       "1       False       False        True      True  \n",
       "2       False       False        True      True  \n",
       "3        True       False       False      True  \n",
       "4        True       False       False     False  \n",
       "\n",
       "[5 rows x 44 columns]"
      ]
     },
     "execution_count": 6,
     "metadata": {},
     "output_type": "execute_result"
    }
   ],
   "source": [
    "X.head()"
   ]
  },
  {
   "cell_type": "markdown",
   "id": "f01b95b7",
   "metadata": {},
   "source": [
    "# 4. \n",
    "Create the response variable y, such that it is 1 if the `income` variable in the adult dataset is `>50K` and 0 if the value is `<=50K`."
   ]
  },
  {
   "cell_type": "code",
   "execution_count": 7,
   "id": "fa4d6f7c",
   "metadata": {},
   "outputs": [
    {
     "data": {
      "text/plain": [
       "0    0\n",
       "1    0\n",
       "2    0\n",
       "3    0\n",
       "4    0\n",
       "Name: income, dtype: int64"
      ]
     },
     "execution_count": 7,
     "metadata": {},
     "output_type": "execute_result"
    }
   ],
   "source": [
    "y = data['income'].apply(lambda x: 1 if x == '>50K' else 0)\n",
    "y.head()"
   ]
  },
  {
   "cell_type": "markdown",
   "id": "99dbf481",
   "metadata": {},
   "source": [
    "# 5. \n",
    "Do a train-test split with 30% of the data for test (using `random_state=123`) and train a `XGBoost` classification model on the training data."
   ]
  },
  {
   "cell_type": "code",
   "execution_count": 8,
   "id": "7fee0522",
   "metadata": {},
   "outputs": [
    {
     "name": "stdout",
     "output_type": "stream",
     "text": [
      "XGBClassifier(base_score=None, booster=None, callbacks=None,\n",
      "              colsample_bylevel=None, colsample_bynode=None,\n",
      "              colsample_bytree=None, device=None, early_stopping_rounds=None,\n",
      "              enable_categorical=False, eval_metric=None, feature_types=None,\n",
      "              gamma=None, grow_policy=None, importance_type=None,\n",
      "              interaction_constraints=None, learning_rate=None, max_bin=None,\n",
      "              max_cat_threshold=None, max_cat_to_onehot=None,\n",
      "              max_delta_step=None, max_depth=None, max_leaves=None,\n",
      "              min_child_weight=None, missing=nan, monotone_constraints=None,\n",
      "              multi_strategy=None, n_estimators=None, n_jobs=None,\n",
      "              num_parallel_tree=None, random_state=123, ...)\n"
     ]
    }
   ],
   "source": [
    "# Perform train-test split\n",
    "X_train, X_test, y_train, y_test = train_test_split(X, y, test_size=0.3, random_state=123)\n",
    "\n",
    "# Train the XGBoost classification model\n",
    "model = xgb.XGBClassifier(random_state=123)\n",
    "model.fit(X_train, y_train)\n",
    "\n",
    "# Print the model\n",
    "print(model)"
   ]
  },
  {
   "cell_type": "markdown",
   "id": "62d63f0a",
   "metadata": {},
   "source": [
    "# 6. \n",
    "Evaluate your models using various evaluation metrics and look at the confusion matrix of your model."
   ]
  },
  {
   "cell_type": "code",
   "execution_count": 21,
   "id": "d893d86a",
   "metadata": {},
   "outputs": [
    {
     "name": "stdout",
     "output_type": "stream",
     "text": [
      "              precision    recall  f1-score   support\n",
      "\n",
      "           0       0.85      0.93      0.89     11166\n",
      "           1       0.67      0.47      0.55      3487\n",
      "\n",
      "    accuracy                           0.82     14653\n",
      "   macro avg       0.76      0.70      0.72     14653\n",
      "weighted avg       0.81      0.82      0.81     14653\n",
      "\n"
     ]
    },
    {
     "data": {
      "image/png": "[encoded data removed]",
      "text/plain": [
       "<Figure size 640x480 with 2 Axes>"
      ]
     },
     "metadata": {},
     "output_type": "display_data"
    }
   ],
   "source": [
    "# Predict the test set results\n",
    "y_pred = model.predict(X_test)\n",
    "\n",
    "# Generate the classification report\n",
    "print(classification_report(y_test, y_pred))\n",
    "\n",
    "ConfusionMatrixDisplay(confusion_matrix(y_test, y_pred)).plot()\n",
    "plt.show()"
   ]
  },
  {
   "cell_type": "code",
   "execution_count": 22,
   "id": "ab26aa19",
   "metadata": {},
   "outputs": [
    {
     "name": "stdout",
     "output_type": "stream",
     "text": [
      "[[10361   805]\n",
      " [ 1839  1648]]\n"
     ]
    }
   ],
   "source": [
    "print(confusion_matrix(y_test, y_pred))\n"
   ]
  },
  {
   "cell_type": "markdown",
   "id": "9d6ae25d",
   "metadata": {},
   "source": [
    "The model is better at predicting low-income (0) individuals because of the higher number of support\n",
    "\n",
    "### Precision\n",
    "the model is correct at `predicting` low-income 85% of the time whilee only correct predicts high-income 67% of the time\n",
    "\n",
    "### Recall\n",
    "\n",
    "`Identifies` 93% of actaul low-income correcctly and only 47% of the high-income individuals\n",
    "\n",
    "### F1-score\n",
    "\n",
    "The f1-score is great at predict and recall the low-income individuals, but lack at predicting and especially recall the high-income individuals. This could be because of the higher representation of low-income individuals as stated before\n"
   ]
  },
  {
   "cell_type": "markdown",
   "id": "a772717b",
   "metadata": {},
   "source": [
    "# 7. \n",
    "To be able to calculate the various fairness metrics in regard to the variable `sex`, we need to construct two separate confusion matrices for the test dataset, one for `female` and one for `male`. First, create separate test sets for `female` and `male` as well as the predicted values for each gender. That is, create `X_test_female`, `X_test_male`, `y_test_female`, `y_test_male`, `y_pred_female`, and `y_pred_male`. (Hint: You can create `X_test_female` by `X_test_female = X_test[X_test[\"sex_Male\"] == 0]` and `y_test_male` by `y_test_male = y_test[X_test[\"sex_Male\"] == 1]`, for instance.)"
   ]
  },
  {
   "cell_type": "code",
   "execution_count": null,
   "id": "74a388be",
   "metadata": {},
   "outputs": [],
   "source": [
    "# Create separate test sets for female and male\n",
    "X_test_female = X_test[X_test[\"sex_Male\"] == 0]\n",
    "X_test_male = X_test[X_test[\"sex_Male\"] == 1]\n",
    "y_test_female = y_test[X_test[\"sex_Male\"] == 0]\n",
    "y_test_male = y_test[X_test[\"sex_Male\"] == 1]\n",
    "\n",
    "# Create predicted values for each gender\n",
    "y_pred_female = y_pred[X_test[\"sex_Male\"] == 0]\n",
    "y_pred_male = y_pred[X_test[\"sex_Male\"] == 1]"
   ]
  },
  {
   "cell_type": "code",
   "execution_count": null,
   "id": "acb56849",
   "metadata": {},
   "outputs": [
    {
     "data": {
      "image/png": "[encoded data removed]",
      "text/plain": [
       "<Figure size 640x480 with 2 Axes>"
      ]
     },
     "metadata": {},
     "output_type": "display_data"
    },
    {
     "data": {
      "image/png": "[encoded data removed]",
      "text/plain": [
       "<Figure size 640x480 with 2 Axes>"
      ]
     },
     "metadata": {},
     "output_type": "display_data"
    }
   ],
   "source": [
    "ConfusionMatrixDisplay(confusion_matrix(y_test_female, y_pred_female)).plot()\n",
    "plt.title(\"Female\")\n",
    "ConfusionMatrixDisplay(confusion_matrix(y_test_male, y_pred_male)).plot()\n",
    "plt.title(\"Male\")\n",
    "plt.show()"
   ]
  },
  {
   "cell_type": "markdown",
   "id": "f98faff7",
   "metadata": {},
   "source": [
    "# 8. \n",
    "Calculate the accuracy for female and male for the XGBoost model and comment on the results."
   ]
  },
  {
   "cell_type": "markdown",
   "id": "f11d7ab7",
   "metadata": {},
   "source": [
    "the accuracy can be caalculated like so: Accuracy = (TP + TN) / (TP + FN + FP + TN) \n",
    "but in this case we will use accuracy_score from sklearn.metrics"
   ]
  },
  {
   "cell_type": "code",
   "execution_count": 13,
   "id": "eb61265f",
   "metadata": {},
   "outputs": [
    {
     "name": "stdout",
     "output_type": "stream",
     "text": [
      "Accuracy for female: 0.8980222496909765\n",
      "Accuracy for male: 0.7806919073374834\n"
     ]
    }
   ],
   "source": [
    "# Calculate accuracy for female\n",
    "accuracy_female = accuracy_score(y_test_female, y_pred_female)\n",
    "print(f'Accuracy for female: {accuracy_female}')\n",
    "\n",
    "# Calculate accuracy for male\n",
    "accuracy_male = accuracy_score(y_test_male, y_pred_male)\n",
    "print(f'Accuracy for male: {accuracy_male}')"
   ]
  },
  {
   "cell_type": "markdown",
   "id": "68f9855a",
   "metadata": {},
   "source": [
    "The model is much better at predicting income levels for women than for men. \n",
    "This could mean that the patterns for women are clearer than they are for men"
   ]
  },
  {
   "cell_type": "markdown",
   "id": "0fc9c72f",
   "metadata": {},
   "source": [
    "# 9. \n",
    "We can now create the True Positive (TP), True Negative (TN), False Positive (FP), and False Negative (FN) for each gender. That is, calculate the eight values `TP_f`, `TN_f`, `FP_f`, `FN_f`, `TP_m`, `TN_m`, `FP_m`, and `FN_m`. (Hint: You can calculate the False Positive for female (FP_f) by `FP_f = sum((y_test_female == 0) & (y_pred_female == 1))`.)"
   ]
  },
  {
   "cell_type": "code",
   "execution_count": 14,
   "id": "ed62e688",
   "metadata": {},
   "outputs": [
    {
     "name": "stdout",
     "output_type": "stream",
     "text": [
      "TP_f: 56, TN_f: 4303, FP_f: 67, FN_f: 428\n",
      "TP_m: 1592, TN_m: 6058, FP_m: 738, FN_m: 1411\n"
     ]
    }
   ],
   "source": [
    "# Calculate TP, TN, FP, FN for female\n",
    "TP_f = sum((y_test_female == 1) & (y_pred_female == 1))\n",
    "TN_f = sum((y_test_female == 0) & (y_pred_female == 0))\n",
    "FP_f = sum((y_test_female == 0) & (y_pred_female == 1))\n",
    "FN_f = sum((y_test_female == 1) & (y_pred_female == 0))\n",
    "\n",
    "# Calculate TP, TN, FP, FN for male\n",
    "TP_m = sum((y_test_male == 1) & (y_pred_male == 1))\n",
    "TN_m = sum((y_test_male == 0) & (y_pred_male == 0))\n",
    "FP_m = sum((y_test_male == 0) & (y_pred_male == 1))\n",
    "FN_m = sum((y_test_male == 1) & (y_pred_male == 0))\n",
    "\n",
    "print(f'TP_f: {TP_f}, TN_f: {TN_f}, FP_f: {FP_f}, FN_f: {FN_f}')\n",
    "print(f'TP_m: {TP_m}, TN_m: {TN_m}, FP_m: {FP_m}, FN_m: {FN_m}')"
   ]
  },
  {
   "cell_type": "markdown",
   "id": "3cd96e77",
   "metadata": {},
   "source": [
    "# 10. \n",
    "Is there error rate balance across different genders, i.e. are the false positive rate (FPR) and false negative rate (FNR) the same across the two genders?"
   ]
  },
  {
   "cell_type": "code",
   "execution_count": 15,
   "id": "574c0c82",
   "metadata": {},
   "outputs": [
    {
     "name": "stdout",
     "output_type": "stream",
     "text": [
      "False Positive Rate for females: 0.015331807780320367\n",
      "False Negative Rate for females: 0.8842975206611571\n",
      "False Positive Rate for males: 0.10859329017068864\n",
      "False Negative Rate for males: 0.4698634698634699\n"
     ]
    }
   ],
   "source": [
    "# Calculate FPR and FNR for females\n",
    "FPR_f = FP_f / (FP_f + TN_f)\n",
    "FNR_f = FN_f / (FN_f + TP_f)\n",
    "\n",
    "# Calculate FPR and FNR for males\n",
    "FPR_m = FP_m / (FP_m + TN_m)\n",
    "FNR_m = FN_m / (FN_m + TP_m)\n",
    "\n",
    "print(f'False Positive Rate for females: {FPR_f}')\n",
    "print(f'False Negative Rate for females: {FNR_f}')\n",
    "print(f'False Positive Rate for males: {FPR_m}')\n",
    "print(f'False Negative Rate for males: {FNR_m}')"
   ]
  },
  {
   "cell_type": "markdown",
   "id": "03d06fac",
   "metadata": {},
   "source": [
    "It is more likely to predict low-income men as high-income individuals than women. As shown in the FPR.\n",
    "\n",
    "The FNR show that 88% of the time it fails to predict the high-income females, and only 47% for men (which is still high)\n"
   ]
  },
  {
   "cell_type": "markdown",
   "id": "b89eb272",
   "metadata": {},
   "source": [
    "# 11. \n",
    "Is there predictive parity across different genders?\n",
    "- Here we will use Precision (/positive predictive value) TP / (TP + FP)"
   ]
  },
  {
   "cell_type": "code",
   "execution_count": 16,
   "id": "ab247c7f",
   "metadata": {},
   "outputs": [
    {
     "name": "stdout",
     "output_type": "stream",
     "text": [
      "Positive Predictive Value for females: 0.45528455284552843\n",
      "Positive Predictive Value for males: 0.6832618025751073\n"
     ]
    }
   ],
   "source": [
    "# Calculate PPV for females\n",
    "PPV_f = TP_f / (TP_f + FP_f)\n",
    "\n",
    "# Calculate PPV for males\n",
    "PPV_m = TP_m / (TP_m + FP_m)\n",
    "\n",
    "print(f'Positive Predictive Value for females: {PPV_f}')\n",
    "print(f'Positive Predictive Value for males: {PPV_m}')"
   ]
  },
  {
   "cell_type": "markdown",
   "id": "e57236c6",
   "metadata": {},
   "source": [
    "When the model predict a high-income, it is correct 68% of the time for men and 46% for women, this aligns with the lower fpr for the women and higher fnr for women aswell."
   ]
  },
  {
   "cell_type": "markdown",
   "id": "f5b4e4c0",
   "metadata": {},
   "source": [
    "# 12. \n",
    "Is there Statistical parity across different genders?"
   ]
  },
  {
   "cell_type": "code",
   "execution_count": 17,
   "id": "a9e91dea",
   "metadata": {},
   "outputs": [
    {
     "name": "stdout",
     "output_type": "stream",
     "text": [
      "123\n",
      "4854\n",
      "2330\n",
      "9799\n",
      "Proportion of positive predictions for females: 0.02533992583436341\n",
      "Proportion of positive predictions for males: 0.23777936524135115\n"
     ]
    }
   ],
   "source": [
    "# Calculate the proportion of positive predictions for females\n",
    "positive_female = sum(y_pred_female)\n",
    "total_female = len(y_pred_female)\n",
    "proportion_female = positive_female / total_female\n",
    "\n",
    "# Calculate the proportion of positive predictions for males\n",
    "positive_male = sum(y_pred_male)\n",
    "total_male = len(y_pred_male)\n",
    "proportion_male = positive_male / total_male\n",
    "\n",
    "print(positive_female)\n",
    "print(total_female)\n",
    "print(positive_male)\n",
    "print(total_male)\n",
    "\n",
    "print(f'Proportion of positive predictions for females: {proportion_female}')\n",
    "print(f'Proportion of positive predictions for males: {proportion_male}')"
   ]
  },
  {
   "cell_type": "markdown",
   "id": "c98db0e1",
   "metadata": {},
   "source": [
    "the prediction on high-income for females is very low (2.5%) and at nearly 10 times more (23.8%) the men is predicted to have a high income "
   ]
  },
  {
   "cell_type": "code",
   "execution_count": 18,
   "id": "900f6676",
   "metadata": {},
   "outputs": [
    {
     "name": "stdout",
     "output_type": "stream",
     "text": [
      "Statistical Parity Difference: 0.21243943940698773\n"
     ]
    }
   ],
   "source": [
    "stat_parity_diff = abs(proportion_male - proportion_female)\n",
    "print(f\"Statistical Parity Difference: {stat_parity_diff}\")"
   ]
  },
  {
   "cell_type": "markdown",
   "id": "05d1be6b",
   "metadata": {},
   "source": [
    "The SPD is ideally suppose to be around 0 for fairness in the predictions.\n",
    "The large value is indicating there is a bias regaring the prediction of a higher income towards the men  than the females"
   ]
  },
  {
   "cell_type": "markdown",
   "id": "adfa25f1",
   "metadata": {},
   "source": [
    "13. [Discussion question] Can your any of your models be used to make fair salary predictions?\n",
    "14. [Discussion question] In what sense is the `adult` dataset biased (unfair)?\n",
    "15. [Discussion question] If the dataset is biased, where could the bias potentially come from?"
   ]
  },
  {
   "cell_type": "markdown",
   "id": "72878876",
   "metadata": {},
   "source": [
    "### 13. Can any of your models be used to make fair salary predictions?\n",
    "\n",
    "No, not in the current state. As shown, the model is 10x more likely to predict a high-income for men than women (23.8% and 2.5%). \n",
    "The SPD is also very high, which confirms the bias towards males. when prediction high-income"
   ]
  },
  {
   "cell_type": "markdown",
   "id": "42e2a94c",
   "metadata": {},
   "source": [
    "### 14. In what sense is the `adult` dataset biased (unfair)?\n",
    "\n",
    "males are represented more than women in high-income category\n",
    "\n",
    "males are also in general overrepresented in this dataset\n"
   ]
  }
 ],
 "metadata": {
  "kernelspec": {
   "display_name": "base",
   "language": "python",
   "name": "python3"
  },
  "language_info": {
   "codemirror_mode": {
    "name": "ipython",
    "version": 3
   },
   "file_extension": ".py",
   "mimetype": "text/x-python",
   "name": "python",
   "nbconvert_exporter": "python",
   "pygments_lexer": "ipython3",
   "version": "3.12.7"
  }
 },
 "nbformat": 4,
 "nbformat_minor": 5
}
